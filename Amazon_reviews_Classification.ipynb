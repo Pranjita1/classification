{
  "nbformat": 4,
  "nbformat_minor": 0,
  "metadata": {
    "colab": {
      "name": "Amazon reviews - Classification.ipynb",
      "provenance": [],
      "collapsed_sections": [],
      "authorship_tag": "ABX9TyPP4lmlvaljyYIp6yK2/Kzm",
      "include_colab_link": true
    },
    "kernelspec": {
      "name": "python3",
      "display_name": "Python 3"
    }
  },
  "cells": [
    {
      "cell_type": "markdown",
      "metadata": {
        "id": "view-in-github",
        "colab_type": "text"
      },
      "source": [
        "<a href=\"https://colab.research.google.com/github/Pranjita1/classification/blob/master/Amazon_reviews_Classification.ipynb\" target=\"_parent\"><img src=\"https://colab.research.google.com/assets/colab-badge.svg\" alt=\"Open In Colab\"/></a>"
      ]
    },
    {
      "cell_type": "markdown",
      "metadata": {
        "id": "PvJQ8byS2ZQY",
        "colab_type": "text"
      },
      "source": [
        "# Sentiment Analysis from amazon product reviews for baby products\n",
        "\n",
        "This notebook contains analysis of customer sentiments, considering a logistic regression (classification) point of view."
      ]
    },
    {
      "cell_type": "code",
      "metadata": {
        "id": "_IeiismypUId",
        "colab_type": "code",
        "colab": {}
      },
      "source": [
        "import pandas as pd\n",
        "import numpy as np\n",
        "\n",
        "df = pd.read_csv('amazon_baby.csv')"
      ],
      "execution_count": 0,
      "outputs": []
    },
    {
      "cell_type": "code",
      "metadata": {
        "id": "rryUN0BBr8W5",
        "colab_type": "code",
        "outputId": "6dd68a8a-209a-4f8c-b6c2-3e97e39ce37a",
        "colab": {
          "base_uri": "https://localhost:8080/",
          "height": 343
        }
      },
      "source": [
        "df.head(10)"
      ],
      "execution_count": 0,
      "outputs": [
        {
          "output_type": "execute_result",
          "data": {
            "text/html": [
              "<div>\n",
              "<style scoped>\n",
              "    .dataframe tbody tr th:only-of-type {\n",
              "        vertical-align: middle;\n",
              "    }\n",
              "\n",
              "    .dataframe tbody tr th {\n",
              "        vertical-align: top;\n",
              "    }\n",
              "\n",
              "    .dataframe thead th {\n",
              "        text-align: right;\n",
              "    }\n",
              "</style>\n",
              "<table border=\"1\" class=\"dataframe\">\n",
              "  <thead>\n",
              "    <tr style=\"text-align: right;\">\n",
              "      <th></th>\n",
              "      <th>name</th>\n",
              "      <th>review</th>\n",
              "      <th>rating</th>\n",
              "    </tr>\n",
              "  </thead>\n",
              "  <tbody>\n",
              "    <tr>\n",
              "      <th>0</th>\n",
              "      <td>Planetwise Flannel Wipes</td>\n",
              "      <td>These flannel wipes are OK, but in my opinion ...</td>\n",
              "      <td>3</td>\n",
              "    </tr>\n",
              "    <tr>\n",
              "      <th>1</th>\n",
              "      <td>Planetwise Wipe Pouch</td>\n",
              "      <td>it came early and was not disappointed. i love...</td>\n",
              "      <td>5</td>\n",
              "    </tr>\n",
              "    <tr>\n",
              "      <th>2</th>\n",
              "      <td>Annas Dream Full Quilt with 2 Shams</td>\n",
              "      <td>Very soft and comfortable and warmer than it l...</td>\n",
              "      <td>5</td>\n",
              "    </tr>\n",
              "    <tr>\n",
              "      <th>3</th>\n",
              "      <td>Stop Pacifier Sucking without tears with Thumb...</td>\n",
              "      <td>This is a product well worth the purchase.  I ...</td>\n",
              "      <td>5</td>\n",
              "    </tr>\n",
              "    <tr>\n",
              "      <th>4</th>\n",
              "      <td>Stop Pacifier Sucking without tears with Thumb...</td>\n",
              "      <td>All of my kids have cried non-stop when I trie...</td>\n",
              "      <td>5</td>\n",
              "    </tr>\n",
              "    <tr>\n",
              "      <th>5</th>\n",
              "      <td>Stop Pacifier Sucking without tears with Thumb...</td>\n",
              "      <td>When the Binky Fairy came to our house, we did...</td>\n",
              "      <td>5</td>\n",
              "    </tr>\n",
              "    <tr>\n",
              "      <th>6</th>\n",
              "      <td>A Tale of Baby's Days with Peter Rabbit</td>\n",
              "      <td>Lovely book, it's bound tightly so you may not...</td>\n",
              "      <td>4</td>\n",
              "    </tr>\n",
              "    <tr>\n",
              "      <th>7</th>\n",
              "      <td>Baby Tracker&amp;reg; - Daily Childcare Journal, S...</td>\n",
              "      <td>Perfect for new parents. We were able to keep ...</td>\n",
              "      <td>5</td>\n",
              "    </tr>\n",
              "    <tr>\n",
              "      <th>8</th>\n",
              "      <td>Baby Tracker&amp;reg; - Daily Childcare Journal, S...</td>\n",
              "      <td>A friend of mine pinned this product on Pinter...</td>\n",
              "      <td>5</td>\n",
              "    </tr>\n",
              "    <tr>\n",
              "      <th>9</th>\n",
              "      <td>Baby Tracker&amp;reg; - Daily Childcare Journal, S...</td>\n",
              "      <td>This has been an easy way for my nanny to reco...</td>\n",
              "      <td>4</td>\n",
              "    </tr>\n",
              "  </tbody>\n",
              "</table>\n",
              "</div>"
            ],
            "text/plain": [
              "                                                name  ... rating\n",
              "0                           Planetwise Flannel Wipes  ...      3\n",
              "1                              Planetwise Wipe Pouch  ...      5\n",
              "2                Annas Dream Full Quilt with 2 Shams  ...      5\n",
              "3  Stop Pacifier Sucking without tears with Thumb...  ...      5\n",
              "4  Stop Pacifier Sucking without tears with Thumb...  ...      5\n",
              "5  Stop Pacifier Sucking without tears with Thumb...  ...      5\n",
              "6            A Tale of Baby's Days with Peter Rabbit  ...      4\n",
              "7  Baby Tracker&reg; - Daily Childcare Journal, S...  ...      5\n",
              "8  Baby Tracker&reg; - Daily Childcare Journal, S...  ...      5\n",
              "9  Baby Tracker&reg; - Daily Childcare Journal, S...  ...      4\n",
              "\n",
              "[10 rows x 3 columns]"
            ]
          },
          "metadata": {
            "tags": []
          },
          "execution_count": 48
        }
      ]
    },
    {
      "cell_type": "code",
      "metadata": {
        "id": "ccV1TaKpr9zE",
        "colab_type": "code",
        "outputId": "8eeaffe9-9423-419f-a358-5b846f8d65a0",
        "colab": {
          "base_uri": "https://localhost:8080/",
          "height": 34
        }
      },
      "source": [
        "df.shape"
      ],
      "execution_count": 0,
      "outputs": [
        {
          "output_type": "execute_result",
          "data": {
            "text/plain": [
              "(183531, 3)"
            ]
          },
          "metadata": {
            "tags": []
          },
          "execution_count": 49
        }
      ]
    },
    {
      "cell_type": "code",
      "metadata": {
        "id": "7ib5PC3WsC15",
        "colab_type": "code",
        "outputId": "d3204396-fdd5-4a91-b704-aacf993c0b8a",
        "colab": {
          "base_uri": "https://localhost:8080/",
          "height": 84
        }
      },
      "source": [
        "df.isnull().sum()"
      ],
      "execution_count": 0,
      "outputs": [
        {
          "output_type": "execute_result",
          "data": {
            "text/plain": [
              "name      318\n",
              "review      0\n",
              "rating      0\n",
              "dtype: int64"
            ]
          },
          "metadata": {
            "tags": []
          },
          "execution_count": 52
        }
      ]
    },
    {
      "cell_type": "code",
      "metadata": {
        "id": "iiPhMVZAsMXU",
        "colab_type": "code",
        "colab": {}
      },
      "source": [
        "df = df.fillna({'review':''})  # fill in N/A's in the review column"
      ],
      "execution_count": 0,
      "outputs": []
    },
    {
      "cell_type": "code",
      "metadata": {
        "id": "18wlFSmwsi0s",
        "colab_type": "code",
        "colab": {}
      },
      "source": [
        "def remove_punctuation(text):\n",
        "    import string\n",
        "    return text.translate(string.punctuation) \n",
        "\n",
        "df['review_clean'] = df['review'].apply(remove_punctuation)"
      ],
      "execution_count": 0,
      "outputs": []
    },
    {
      "cell_type": "code",
      "metadata": {
        "id": "5lULUtQlxv_k",
        "colab_type": "code",
        "outputId": "599972a8-a228-411f-860d-213027583c22",
        "colab": {
          "base_uri": "https://localhost:8080/",
          "height": 34
        }
      },
      "source": [
        "df.shape"
      ],
      "execution_count": 0,
      "outputs": [
        {
          "output_type": "execute_result",
          "data": {
            "text/plain": [
              "(183531, 4)"
            ]
          },
          "metadata": {
            "tags": []
          },
          "execution_count": 54
        }
      ]
    },
    {
      "cell_type": "code",
      "metadata": {
        "id": "FT41Ae9Cxyjt",
        "colab_type": "code",
        "colab": {}
      },
      "source": [
        "df = df.drop('review', axis=1)"
      ],
      "execution_count": 0,
      "outputs": []
    },
    {
      "cell_type": "code",
      "metadata": {
        "id": "WrJwDHeSx4dz",
        "colab_type": "code",
        "outputId": "879d6edf-1057-4fcb-a8c6-9ecd44920fec",
        "colab": {
          "base_uri": "https://localhost:8080/",
          "height": 34
        }
      },
      "source": [
        "df.shape"
      ],
      "execution_count": 0,
      "outputs": [
        {
          "output_type": "execute_result",
          "data": {
            "text/plain": [
              "(183531, 3)"
            ]
          },
          "metadata": {
            "tags": []
          },
          "execution_count": 58
        }
      ]
    },
    {
      "cell_type": "code",
      "metadata": {
        "id": "hW-HPekBtMwU",
        "colab_type": "code",
        "colab": {}
      },
      "source": [
        "df = df[df['rating'] != 3]"
      ],
      "execution_count": 0,
      "outputs": []
    },
    {
      "cell_type": "code",
      "metadata": {
        "id": "2M8UyiX_yGGT",
        "colab_type": "code",
        "outputId": "ac350c88-18ea-43ae-a5f8-3eadb7fe9c5f",
        "colab": {
          "base_uri": "https://localhost:8080/",
          "height": 34
        }
      },
      "source": [
        "df.shape"
      ],
      "execution_count": 0,
      "outputs": [
        {
          "output_type": "execute_result",
          "data": {
            "text/plain": [
              "(166752, 4)"
            ]
          },
          "metadata": {
            "tags": []
          },
          "execution_count": 62
        }
      ]
    },
    {
      "cell_type": "code",
      "metadata": {
        "id": "x33Ca84XtghE",
        "colab_type": "code",
        "colab": {}
      },
      "source": [
        "df = df.reset_index()"
      ],
      "execution_count": 0,
      "outputs": []
    },
    {
      "cell_type": "code",
      "metadata": {
        "id": "t1dqJkotyRQG",
        "colab_type": "code",
        "outputId": "43c20e60-81c8-42c0-b1f5-a2f974cdca21",
        "colab": {
          "base_uri": "https://localhost:8080/",
          "height": 343
        }
      },
      "source": [
        "df.head(10)"
      ],
      "execution_count": 0,
      "outputs": [
        {
          "output_type": "execute_result",
          "data": {
            "text/html": [
              "<div>\n",
              "<style scoped>\n",
              "    .dataframe tbody tr th:only-of-type {\n",
              "        vertical-align: middle;\n",
              "    }\n",
              "\n",
              "    .dataframe tbody tr th {\n",
              "        vertical-align: top;\n",
              "    }\n",
              "\n",
              "    .dataframe thead th {\n",
              "        text-align: right;\n",
              "    }\n",
              "</style>\n",
              "<table border=\"1\" class=\"dataframe\">\n",
              "  <thead>\n",
              "    <tr style=\"text-align: right;\">\n",
              "      <th></th>\n",
              "      <th>index</th>\n",
              "      <th>name</th>\n",
              "      <th>rating</th>\n",
              "      <th>review_clean</th>\n",
              "    </tr>\n",
              "  </thead>\n",
              "  <tbody>\n",
              "    <tr>\n",
              "      <th>0</th>\n",
              "      <td>1</td>\n",
              "      <td>Planetwise Wipe Pouch</td>\n",
              "      <td>5</td>\n",
              "      <td>it came early and was not disappointed. i love...</td>\n",
              "    </tr>\n",
              "    <tr>\n",
              "      <th>1</th>\n",
              "      <td>2</td>\n",
              "      <td>Annas Dream Full Quilt with 2 Shams</td>\n",
              "      <td>5</td>\n",
              "      <td>Very soft and comfortable and warmer than it l...</td>\n",
              "    </tr>\n",
              "    <tr>\n",
              "      <th>2</th>\n",
              "      <td>3</td>\n",
              "      <td>Stop Pacifier Sucking without tears with Thumb...</td>\n",
              "      <td>5</td>\n",
              "      <td>This is a product well worth the purchase.  I ...</td>\n",
              "    </tr>\n",
              "    <tr>\n",
              "      <th>3</th>\n",
              "      <td>4</td>\n",
              "      <td>Stop Pacifier Sucking without tears with Thumb...</td>\n",
              "      <td>5</td>\n",
              "      <td>All of my kids have cried non-stop when I trie...</td>\n",
              "    </tr>\n",
              "    <tr>\n",
              "      <th>4</th>\n",
              "      <td>5</td>\n",
              "      <td>Stop Pacifier Sucking without tears with Thumb...</td>\n",
              "      <td>5</td>\n",
              "      <td>When the Binky Fairy came to our house, we did...</td>\n",
              "    </tr>\n",
              "    <tr>\n",
              "      <th>5</th>\n",
              "      <td>6</td>\n",
              "      <td>A Tale of Baby's Days with Peter Rabbit</td>\n",
              "      <td>4</td>\n",
              "      <td>Lovely book, it's bound tightly so you may not...</td>\n",
              "    </tr>\n",
              "    <tr>\n",
              "      <th>6</th>\n",
              "      <td>7</td>\n",
              "      <td>Baby Tracker&amp;reg; - Daily Childcare Journal, S...</td>\n",
              "      <td>5</td>\n",
              "      <td>Perfect for new parents. We were able to keep ...</td>\n",
              "    </tr>\n",
              "    <tr>\n",
              "      <th>7</th>\n",
              "      <td>8</td>\n",
              "      <td>Baby Tracker&amp;reg; - Daily Childcare Journal, S...</td>\n",
              "      <td>5</td>\n",
              "      <td>A friend of mine pinned this product on Pinter...</td>\n",
              "    </tr>\n",
              "    <tr>\n",
              "      <th>8</th>\n",
              "      <td>9</td>\n",
              "      <td>Baby Tracker&amp;reg; - Daily Childcare Journal, S...</td>\n",
              "      <td>4</td>\n",
              "      <td>This has been an easy way for my nanny to reco...</td>\n",
              "    </tr>\n",
              "    <tr>\n",
              "      <th>9</th>\n",
              "      <td>10</td>\n",
              "      <td>Baby Tracker&amp;reg; - Daily Childcare Journal, S...</td>\n",
              "      <td>4</td>\n",
              "      <td>I love this journal and our nanny uses it ever...</td>\n",
              "    </tr>\n",
              "  </tbody>\n",
              "</table>\n",
              "</div>"
            ],
            "text/plain": [
              "   index  ...                                       review_clean\n",
              "0      1  ...  it came early and was not disappointed. i love...\n",
              "1      2  ...  Very soft and comfortable and warmer than it l...\n",
              "2      3  ...  This is a product well worth the purchase.  I ...\n",
              "3      4  ...  All of my kids have cried non-stop when I trie...\n",
              "4      5  ...  When the Binky Fairy came to our house, we did...\n",
              "5      6  ...  Lovely book, it's bound tightly so you may not...\n",
              "6      7  ...  Perfect for new parents. We were able to keep ...\n",
              "7      8  ...  A friend of mine pinned this product on Pinter...\n",
              "8      9  ...  This has been an easy way for my nanny to reco...\n",
              "9     10  ...  I love this journal and our nanny uses it ever...\n",
              "\n",
              "[10 rows x 4 columns]"
            ]
          },
          "metadata": {
            "tags": []
          },
          "execution_count": 63
        }
      ]
    },
    {
      "cell_type": "code",
      "metadata": {
        "id": "vJIQknsSwGTh",
        "colab_type": "code",
        "outputId": "483218a2-30d2-4a22-96a1-c164b139a4cb",
        "colab": {
          "base_uri": "https://localhost:8080/",
          "height": 195
        }
      },
      "source": [
        "df = df.drop('index', axis=1)\n",
        "df.head()"
      ],
      "execution_count": 0,
      "outputs": [
        {
          "output_type": "execute_result",
          "data": {
            "text/html": [
              "<div>\n",
              "<style scoped>\n",
              "    .dataframe tbody tr th:only-of-type {\n",
              "        vertical-align: middle;\n",
              "    }\n",
              "\n",
              "    .dataframe tbody tr th {\n",
              "        vertical-align: top;\n",
              "    }\n",
              "\n",
              "    .dataframe thead th {\n",
              "        text-align: right;\n",
              "    }\n",
              "</style>\n",
              "<table border=\"1\" class=\"dataframe\">\n",
              "  <thead>\n",
              "    <tr style=\"text-align: right;\">\n",
              "      <th></th>\n",
              "      <th>name</th>\n",
              "      <th>rating</th>\n",
              "      <th>review_clean</th>\n",
              "    </tr>\n",
              "  </thead>\n",
              "  <tbody>\n",
              "    <tr>\n",
              "      <th>0</th>\n",
              "      <td>Planetwise Wipe Pouch</td>\n",
              "      <td>5</td>\n",
              "      <td>it came early and was not disappointed. i love...</td>\n",
              "    </tr>\n",
              "    <tr>\n",
              "      <th>1</th>\n",
              "      <td>Annas Dream Full Quilt with 2 Shams</td>\n",
              "      <td>5</td>\n",
              "      <td>Very soft and comfortable and warmer than it l...</td>\n",
              "    </tr>\n",
              "    <tr>\n",
              "      <th>2</th>\n",
              "      <td>Stop Pacifier Sucking without tears with Thumb...</td>\n",
              "      <td>5</td>\n",
              "      <td>This is a product well worth the purchase.  I ...</td>\n",
              "    </tr>\n",
              "    <tr>\n",
              "      <th>3</th>\n",
              "      <td>Stop Pacifier Sucking without tears with Thumb...</td>\n",
              "      <td>5</td>\n",
              "      <td>All of my kids have cried non-stop when I trie...</td>\n",
              "    </tr>\n",
              "    <tr>\n",
              "      <th>4</th>\n",
              "      <td>Stop Pacifier Sucking without tears with Thumb...</td>\n",
              "      <td>5</td>\n",
              "      <td>When the Binky Fairy came to our house, we did...</td>\n",
              "    </tr>\n",
              "  </tbody>\n",
              "</table>\n",
              "</div>"
            ],
            "text/plain": [
              "                                                name  ...                                       review_clean\n",
              "0                              Planetwise Wipe Pouch  ...  it came early and was not disappointed. i love...\n",
              "1                Annas Dream Full Quilt with 2 Shams  ...  Very soft and comfortable and warmer than it l...\n",
              "2  Stop Pacifier Sucking without tears with Thumb...  ...  This is a product well worth the purchase.  I ...\n",
              "3  Stop Pacifier Sucking without tears with Thumb...  ...  All of my kids have cried non-stop when I trie...\n",
              "4  Stop Pacifier Sucking without tears with Thumb...  ...  When the Binky Fairy came to our house, we did...\n",
              "\n",
              "[5 rows x 3 columns]"
            ]
          },
          "metadata": {
            "tags": []
          },
          "execution_count": 64
        }
      ]
    },
    {
      "cell_type": "code",
      "metadata": {
        "id": "pzq58DGRyfGl",
        "colab_type": "code",
        "outputId": "6ca47a12-2e4c-4ba8-9e4a-a302a354c8d9",
        "colab": {
          "base_uri": "https://localhost:8080/",
          "height": 34
        }
      },
      "source": [
        "df.shape"
      ],
      "execution_count": 0,
      "outputs": [
        {
          "output_type": "execute_result",
          "data": {
            "text/plain": [
              "(166752, 3)"
            ]
          },
          "metadata": {
            "tags": []
          },
          "execution_count": 65
        }
      ]
    },
    {
      "cell_type": "markdown",
      "metadata": {
        "id": "A9npf4Tq3BKt",
        "colab_type": "text"
      },
      "source": [
        "after preliminary analysis we decided to drop lines with rating 3, because this was at the decision boundary, which we do not want to consider for now. After we have extreme scores that we can easily label as positive or negative sentiment, we apply sklearn's CountVectoriser to convert the text corpora of reviews to a sparse matrix. This sparse matrix is fit with the sentiment column for logistic regression, the idea being max. positive words yielding max positive score meaning positive sentiment and vice versa."
      ]
    },
    {
      "cell_type": "code",
      "metadata": {
        "id": "vZcA3bv5t7qu",
        "colab_type": "code",
        "colab": {}
      },
      "source": [
        "df['sentiment'] = df['rating'].apply(lambda rating : +1 if rating > 3 else -1)"
      ],
      "execution_count": 0,
      "outputs": []
    },
    {
      "cell_type": "code",
      "metadata": {
        "id": "VpdprXC1uJP5",
        "colab_type": "code",
        "outputId": "48bda33f-5f0e-41e6-b5fd-f3059a02fb88",
        "colab": {
          "base_uri": "https://localhost:8080/",
          "height": 136
        }
      },
      "source": [
        "df.head(3)"
      ],
      "execution_count": 0,
      "outputs": [
        {
          "output_type": "execute_result",
          "data": {
            "text/html": [
              "<div>\n",
              "<style scoped>\n",
              "    .dataframe tbody tr th:only-of-type {\n",
              "        vertical-align: middle;\n",
              "    }\n",
              "\n",
              "    .dataframe tbody tr th {\n",
              "        vertical-align: top;\n",
              "    }\n",
              "\n",
              "    .dataframe thead th {\n",
              "        text-align: right;\n",
              "    }\n",
              "</style>\n",
              "<table border=\"1\" class=\"dataframe\">\n",
              "  <thead>\n",
              "    <tr style=\"text-align: right;\">\n",
              "      <th></th>\n",
              "      <th>name</th>\n",
              "      <th>rating</th>\n",
              "      <th>review_clean</th>\n",
              "      <th>sentiment</th>\n",
              "    </tr>\n",
              "  </thead>\n",
              "  <tbody>\n",
              "    <tr>\n",
              "      <th>0</th>\n",
              "      <td>Planetwise Wipe Pouch</td>\n",
              "      <td>5</td>\n",
              "      <td>it came early and was not disappointed. i love...</td>\n",
              "      <td>1</td>\n",
              "    </tr>\n",
              "    <tr>\n",
              "      <th>1</th>\n",
              "      <td>Annas Dream Full Quilt with 2 Shams</td>\n",
              "      <td>5</td>\n",
              "      <td>Very soft and comfortable and warmer than it l...</td>\n",
              "      <td>1</td>\n",
              "    </tr>\n",
              "    <tr>\n",
              "      <th>2</th>\n",
              "      <td>Stop Pacifier Sucking without tears with Thumb...</td>\n",
              "      <td>5</td>\n",
              "      <td>This is a product well worth the purchase.  I ...</td>\n",
              "      <td>1</td>\n",
              "    </tr>\n",
              "  </tbody>\n",
              "</table>\n",
              "</div>"
            ],
            "text/plain": [
              "                                                name  ...  sentiment\n",
              "0                              Planetwise Wipe Pouch  ...          1\n",
              "1                Annas Dream Full Quilt with 2 Shams  ...          1\n",
              "2  Stop Pacifier Sucking without tears with Thumb...  ...          1\n",
              "\n",
              "[3 rows x 4 columns]"
            ]
          },
          "metadata": {
            "tags": []
          },
          "execution_count": 67
        }
      ]
    },
    {
      "cell_type": "code",
      "metadata": {
        "id": "JcQ9BaMouO9B",
        "colab_type": "code",
        "colab": {}
      },
      "source": [
        "from sklearn.model_selection import train_test_split\n",
        "\n",
        "train, test = train_test_split(df, test_size=0.2)"
      ],
      "execution_count": 0,
      "outputs": []
    },
    {
      "cell_type": "code",
      "metadata": {
        "id": "lRw6ueXBuYuA",
        "colab_type": "code",
        "outputId": "c066bb68-8a01-4d7b-a205-4134a3eae860",
        "colab": {
          "base_uri": "https://localhost:8080/",
          "height": 195
        }
      },
      "source": [
        "train.head(5)"
      ],
      "execution_count": 0,
      "outputs": [
        {
          "output_type": "execute_result",
          "data": {
            "text/html": [
              "<div>\n",
              "<style scoped>\n",
              "    .dataframe tbody tr th:only-of-type {\n",
              "        vertical-align: middle;\n",
              "    }\n",
              "\n",
              "    .dataframe tbody tr th {\n",
              "        vertical-align: top;\n",
              "    }\n",
              "\n",
              "    .dataframe thead th {\n",
              "        text-align: right;\n",
              "    }\n",
              "</style>\n",
              "<table border=\"1\" class=\"dataframe\">\n",
              "  <thead>\n",
              "    <tr style=\"text-align: right;\">\n",
              "      <th></th>\n",
              "      <th>name</th>\n",
              "      <th>rating</th>\n",
              "      <th>review_clean</th>\n",
              "      <th>sentiment</th>\n",
              "    </tr>\n",
              "  </thead>\n",
              "  <tbody>\n",
              "    <tr>\n",
              "      <th>130278</th>\n",
              "      <td>JJ Cole Satchel Diaper Bag, Green Arbor</td>\n",
              "      <td>5</td>\n",
              "      <td>We were looking for a diaper bag that didn't l...</td>\n",
              "      <td>1</td>\n",
              "    </tr>\n",
              "    <tr>\n",
              "      <th>121762</th>\n",
              "      <td>Blueberry Basix All in One Pocket Diaper, Medi...</td>\n",
              "      <td>5</td>\n",
              "      <td>I've been using Blueberry Basix for 3 months n...</td>\n",
              "      <td>1</td>\n",
              "    </tr>\n",
              "    <tr>\n",
              "      <th>104710</th>\n",
              "      <td>Skip Hop Treetop Friends Activity Gym</td>\n",
              "      <td>5</td>\n",
              "      <td>I was dead set against a baby gym because I th...</td>\n",
              "      <td>1</td>\n",
              "    </tr>\n",
              "    <tr>\n",
              "      <th>110753</th>\n",
              "      <td>Sealy Baby Firm Rest Crib Mattress</td>\n",
              "      <td>1</td>\n",
              "      <td>As other reviewers have said, this mattress is...</td>\n",
              "      <td>-1</td>\n",
              "    </tr>\n",
              "    <tr>\n",
              "      <th>123673</th>\n",
              "      <td>Kushies Deluxe Flannel Change Pad, Yellow with...</td>\n",
              "      <td>4</td>\n",
              "      <td>I like the design of this changing pad. It's n...</td>\n",
              "      <td>1</td>\n",
              "    </tr>\n",
              "  </tbody>\n",
              "</table>\n",
              "</div>"
            ],
            "text/plain": [
              "                                                     name  ...  sentiment\n",
              "130278            JJ Cole Satchel Diaper Bag, Green Arbor  ...          1\n",
              "121762  Blueberry Basix All in One Pocket Diaper, Medi...  ...          1\n",
              "104710              Skip Hop Treetop Friends Activity Gym  ...          1\n",
              "110753                 Sealy Baby Firm Rest Crib Mattress  ...         -1\n",
              "123673  Kushies Deluxe Flannel Change Pad, Yellow with...  ...          1\n",
              "\n",
              "[5 rows x 4 columns]"
            ]
          },
          "metadata": {
            "tags": []
          },
          "execution_count": 69
        }
      ]
    },
    {
      "cell_type": "code",
      "metadata": {
        "id": "GYFg3UasvPoI",
        "colab_type": "code",
        "outputId": "82c3e60c-05b1-4178-dfe2-8139a029a66e",
        "colab": {
          "base_uri": "https://localhost:8080/",
          "height": 166
        }
      },
      "source": [
        "test.head(4)"
      ],
      "execution_count": 0,
      "outputs": [
        {
          "output_type": "execute_result",
          "data": {
            "text/html": [
              "<div>\n",
              "<style scoped>\n",
              "    .dataframe tbody tr th:only-of-type {\n",
              "        vertical-align: middle;\n",
              "    }\n",
              "\n",
              "    .dataframe tbody tr th {\n",
              "        vertical-align: top;\n",
              "    }\n",
              "\n",
              "    .dataframe thead th {\n",
              "        text-align: right;\n",
              "    }\n",
              "</style>\n",
              "<table border=\"1\" class=\"dataframe\">\n",
              "  <thead>\n",
              "    <tr style=\"text-align: right;\">\n",
              "      <th></th>\n",
              "      <th>name</th>\n",
              "      <th>rating</th>\n",
              "      <th>review_clean</th>\n",
              "      <th>sentiment</th>\n",
              "    </tr>\n",
              "  </thead>\n",
              "  <tbody>\n",
              "    <tr>\n",
              "      <th>129252</th>\n",
              "      <td>Flip Toilet Seat Trainer- Blue</td>\n",
              "      <td>5</td>\n",
              "      <td>I loved it because it is simple and it fit my ...</td>\n",
              "      <td>1</td>\n",
              "    </tr>\n",
              "    <tr>\n",
              "      <th>76935</th>\n",
              "      <td>Pretty Pony Horse Window Treatment Panels by S...</td>\n",
              "      <td>5</td>\n",
              "      <td>Ur takin looks great. Not too busy to interfer...</td>\n",
              "      <td>1</td>\n",
              "    </tr>\n",
              "    <tr>\n",
              "      <th>65370</th>\n",
              "      <td>Eddie Bauer - Teddy Bear Wall Decals, Brown</td>\n",
              "      <td>5</td>\n",
              "      <td>I have placed these decals on the walls in my ...</td>\n",
              "      <td>1</td>\n",
              "    </tr>\n",
              "    <tr>\n",
              "      <th>21589</th>\n",
              "      <td>Cloud b Twilight Constellation Night Light, Tu...</td>\n",
              "      <td>5</td>\n",
              "      <td>We have been using our turtle for a little ove...</td>\n",
              "      <td>1</td>\n",
              "    </tr>\n",
              "  </tbody>\n",
              "</table>\n",
              "</div>"
            ],
            "text/plain": [
              "                                                     name  ...  sentiment\n",
              "129252                     Flip Toilet Seat Trainer- Blue  ...          1\n",
              "76935   Pretty Pony Horse Window Treatment Panels by S...  ...          1\n",
              "65370         Eddie Bauer - Teddy Bear Wall Decals, Brown  ...          1\n",
              "21589   Cloud b Twilight Constellation Night Light, Tu...  ...          1\n",
              "\n",
              "[4 rows x 4 columns]"
            ]
          },
          "metadata": {
            "tags": []
          },
          "execution_count": 70
        }
      ]
    },
    {
      "cell_type": "code",
      "metadata": {
        "id": "oIJ1mHjQwZ1y",
        "colab_type": "code",
        "outputId": "473f4781-6dfe-435f-a4f8-817897697c34",
        "colab": {
          "base_uri": "https://localhost:8080/",
          "height": 34
        }
      },
      "source": [
        "test.shape"
      ],
      "execution_count": 0,
      "outputs": [
        {
          "output_type": "execute_result",
          "data": {
            "text/plain": [
              "(33351, 4)"
            ]
          },
          "metadata": {
            "tags": []
          },
          "execution_count": 71
        }
      ]
    },
    {
      "cell_type": "code",
      "metadata": {
        "id": "hADVEsu9wioe",
        "colab_type": "code",
        "outputId": "ef73c550-6137-4bb3-80ce-b15445d4510c",
        "colab": {
          "base_uri": "https://localhost:8080/",
          "height": 34
        }
      },
      "source": [
        "train.shape"
      ],
      "execution_count": 0,
      "outputs": [
        {
          "output_type": "execute_result",
          "data": {
            "text/plain": [
              "(133401, 4)"
            ]
          },
          "metadata": {
            "tags": []
          },
          "execution_count": 72
        }
      ]
    },
    {
      "cell_type": "code",
      "metadata": {
        "id": "2iWGXR2Bwqc1",
        "colab_type": "code",
        "colab": {}
      },
      "source": [
        "from sklearn.feature_extraction.text import CountVectorizer\n",
        "\n",
        "vectorizer = CountVectorizer(token_pattern=r'\\b\\w+\\b')\n",
        "     # Use this token pattern to keep single-letter words\n",
        "# First, learn vocabulary from the training data and assign columns to words\n",
        "# Then convert the training data into a sparse matrix\n",
        "train_matrix = vectorizer.fit_transform(train['review_clean'])\n",
        "# Second, convert the test data into a sparse matrix, using the same word-column mapping\n",
        "test_matrix = vectorizer.transform(test['review_clean'])"
      ],
      "execution_count": 0,
      "outputs": []
    },
    {
      "cell_type": "code",
      "metadata": {
        "id": "9Dg8gJ4Nw68m",
        "colab_type": "code",
        "outputId": "434790fe-9984-4406-c469-c893983808ba",
        "colab": {
          "base_uri": "https://localhost:8080/",
          "height": 235
        }
      },
      "source": [
        "from sklearn.linear_model import LogisticRegression\n",
        "sentiment_model = LogisticRegression()\n",
        "sentiment_model.fit(train_matrix, train['sentiment'])"
      ],
      "execution_count": 0,
      "outputs": [
        {
          "output_type": "stream",
          "text": [
            "/usr/local/lib/python3.6/dist-packages/sklearn/linear_model/_logistic.py:940: ConvergenceWarning: lbfgs failed to converge (status=1):\n",
            "STOP: TOTAL NO. of ITERATIONS REACHED LIMIT.\n",
            "\n",
            "Increase the number of iterations (max_iter) or scale the data as shown in:\n",
            "    https://scikit-learn.org/stable/modules/preprocessing.html\n",
            "Please also refer to the documentation for alternative solver options:\n",
            "    https://scikit-learn.org/stable/modules/linear_model.html#logistic-regression\n",
            "  extra_warning_msg=_LOGISTIC_SOLVER_CONVERGENCE_MSG)\n"
          ],
          "name": "stderr"
        },
        {
          "output_type": "execute_result",
          "data": {
            "text/plain": [
              "LogisticRegression(C=1.0, class_weight=None, dual=False, fit_intercept=True,\n",
              "                   intercept_scaling=1, l1_ratio=None, max_iter=100,\n",
              "                   multi_class='auto', n_jobs=None, penalty='l2',\n",
              "                   random_state=None, solver='lbfgs', tol=0.0001, verbose=0,\n",
              "                   warm_start=False)"
            ]
          },
          "metadata": {
            "tags": []
          },
          "execution_count": 75
        }
      ]
    },
    {
      "cell_type": "code",
      "metadata": {
        "id": "pp1Dquko0rDC",
        "colab_type": "code",
        "outputId": "74425c39-1412-41bb-9f44-0c1451ef97be",
        "colab": {
          "base_uri": "https://localhost:8080/",
          "height": 34
        }
      },
      "source": [
        "np.sum(sentiment_model.coef_ >= 0)"
      ],
      "execution_count": 0,
      "outputs": [
        {
          "output_type": "execute_result",
          "data": {
            "text/plain": [
              "40389"
            ]
          },
          "metadata": {
            "tags": []
          },
          "execution_count": 76
        }
      ]
    },
    {
      "cell_type": "markdown",
      "metadata": {
        "id": "7A-sHUVs5j3Z",
        "colab_type": "text"
      },
      "source": [
        "Here, we consider reviews 5, 6 and 7 from the test dataset. First we predict the sentiment."
      ]
    },
    {
      "cell_type": "code",
      "metadata": {
        "id": "hnfKo8gm0x89",
        "colab_type": "code",
        "outputId": "b21cd694-28bb-4c2c-f256-3acd214ba753",
        "colab": {
          "base_uri": "https://localhost:8080/",
          "height": 118
        }
      },
      "source": [
        "sample_test_data = test.iloc[4:7]\n",
        "print(sample_test_data) "
      ],
      "execution_count": 0,
      "outputs": [
        {
          "output_type": "stream",
          "text": [
            "                                                   name  ...  sentiment\n",
            "118130  San Diego Bebe Twin Eco Nursing Pillow Lavender  ...          1\n",
            "28335          Bebe Au Lait Cotton Nursing Cover - Bali  ...          1\n",
            "41729      Sunshine Kids Stroller Accessory Buggy Buddy  ...         -1\n",
            "\n",
            "[3 rows x 4 columns]\n"
          ],
          "name": "stdout"
        }
      ]
    },
    {
      "cell_type": "code",
      "metadata": {
        "id": "OCh0wouc06dV",
        "colab_type": "code",
        "outputId": "83ad7529-4e56-4dd5-b112-3e785bfd3481",
        "colab": {
          "base_uri": "https://localhost:8080/",
          "height": 50
        }
      },
      "source": [
        "sample_test_matrix = vectorizer.transform(sample_test_data['review_clean'])\n",
        "scores = sentiment_model.decision_function(sample_test_matrix)\n",
        "print(scores)\n",
        "\n",
        "print(sentiment_model.predict(sample_test_matrix))"
      ],
      "execution_count": 0,
      "outputs": [
        {
          "output_type": "stream",
          "text": [
            "[ 7.87625526  7.25604686 -4.25399424]\n",
            "[ 1  1 -1]\n"
          ],
          "name": "stdout"
        }
      ]
    },
    {
      "cell_type": "markdown",
      "metadata": {
        "id": "8v1ejWWM48ge",
        "colab_type": "text"
      },
      "source": [
        "Now, that we can predict sentiment using regression technique, let us find out the probability that a given review would be under positive or negative class for these three reviews in consideration."
      ]
    },
    {
      "cell_type": "code",
      "metadata": {
        "id": "12bPRIWQ1Sfe",
        "colab_type": "code",
        "outputId": "a79c57ab-bbcc-4594-a98b-8d9584af8396",
        "colab": {
          "base_uri": "https://localhost:8080/",
          "height": 34
        }
      },
      "source": [
        "print([1./(1+np.exp(-x)) for x in scores]) "
      ],
      "execution_count": 0,
      "outputs": [
        {
          "output_type": "stream",
          "text": [
            "[0.999620491984866, 0.9992946049123671, 0.014008350874921305]\n"
          ],
          "name": "stdout"
        }
      ]
    },
    {
      "cell_type": "markdown",
      "metadata": {
        "id": "4vN3sYnY6Fhj",
        "colab_type": "text"
      },
      "source": [
        "If the probability is more towards 1, it's tendency of being positive is higher and vice versa. We see that reviews 5 and 6 in the test corpora have very high (~1) probability, while review 7 has extremely low probability. This shows why the prediction behaviour was as such."
      ]
    },
    {
      "cell_type": "markdown",
      "metadata": {
        "id": "mzFpOZAN7xjm",
        "colab_type": "text"
      },
      "source": [
        "Next, we make predictions for the entire test corpora. And, we pick out the top 20 positive reviews. Since from the matrix value it wasn't clear which were the reviews being referred we also print the dataframe values to read them. \n",
        "\n",
        "A point here: Although we did feature engineering for reviews by replacing them with empty strings, we did not delete NaN values for product name column, because in some cases from the reviews it was understandable what product it was."
      ]
    },
    {
      "cell_type": "code",
      "metadata": {
        "id": "c5T73Njs5XAc",
        "colab_type": "code",
        "colab": {}
      },
      "source": [
        "test_score = sentiment_model.decision_function(test_matrix)\n"
      ],
      "execution_count": 0,
      "outputs": []
    },
    {
      "cell_type": "code",
      "metadata": {
        "id": "Ut6tFTGM7KPH",
        "colab_type": "code",
        "outputId": "36c1ed51-14f6-4114-f313-43d986c4eabe",
        "colab": {
          "base_uri": "https://localhost:8080/",
          "height": 50
        }
      },
      "source": [
        "top_positive_review = np.argsort(-test_score)[:20]\n",
        "print(top_positive_review)"
      ],
      "execution_count": 0,
      "outputs": [
        {
          "output_type": "stream",
          "text": [
            "[11396 13331 20772   842 24160 14481 13904 32789 22111 28094 24343 10873\n",
            "   454 16416  9857  6813 11160 30661  6605  4956]\n"
          ],
          "name": "stdout"
        }
      ]
    },
    {
      "cell_type": "code",
      "metadata": {
        "id": "zWfw7JsO7aeg",
        "colab_type": "code",
        "outputId": "e4419d4d-4ad2-4ba5-cd98-39e884617476",
        "colab": {
          "base_uri": "https://localhost:8080/",
          "height": 656
        }
      },
      "source": [
        "print(test_score[top_positive_review[0]])\n",
        "test.iloc[top_positive_review]"
      ],
      "execution_count": 0,
      "outputs": [
        {
          "output_type": "stream",
          "text": [
            "42.65968847186799\n"
          ],
          "name": "stdout"
        },
        {
          "output_type": "execute_result",
          "data": {
            "text/html": [
              "<div>\n",
              "<style scoped>\n",
              "    .dataframe tbody tr th:only-of-type {\n",
              "        vertical-align: middle;\n",
              "    }\n",
              "\n",
              "    .dataframe tbody tr th {\n",
              "        vertical-align: top;\n",
              "    }\n",
              "\n",
              "    .dataframe thead th {\n",
              "        text-align: right;\n",
              "    }\n",
              "</style>\n",
              "<table border=\"1\" class=\"dataframe\">\n",
              "  <thead>\n",
              "    <tr style=\"text-align: right;\">\n",
              "      <th></th>\n",
              "      <th>name</th>\n",
              "      <th>rating</th>\n",
              "      <th>review_clean</th>\n",
              "      <th>sentiment</th>\n",
              "    </tr>\n",
              "  </thead>\n",
              "  <tbody>\n",
              "    <tr>\n",
              "      <th>54812</th>\n",
              "      <td>Ju-Ju-Be Be Right Back Backpack Diaper Bag, Bl...</td>\n",
              "      <td>5</td>\n",
              "      <td>This review is going to compare 3 Ju-Ju-Be bag...</td>\n",
              "      <td>1</td>\n",
              "    </tr>\n",
              "    <tr>\n",
              "      <th>85117</th>\n",
              "      <td>The First Years Ignite Stroller</td>\n",
              "      <td>5</td>\n",
              "      <td>The last thing we wanted was to purchase more ...</td>\n",
              "      <td>1</td>\n",
              "    </tr>\n",
              "    <tr>\n",
              "      <th>159924</th>\n",
              "      <td>Twist Breastfeeding Gift Set</td>\n",
              "      <td>5</td>\n",
              "      <td>I went back to work full time just six weeks a...</td>\n",
              "      <td>1</td>\n",
              "    </tr>\n",
              "    <tr>\n",
              "      <th>109935</th>\n",
              "      <td>BOB Revolution SE Single Stroller, Navy</td>\n",
              "      <td>5</td>\n",
              "      <td>My grandchild is one year old and I bought thi...</td>\n",
              "      <td>1</td>\n",
              "    </tr>\n",
              "    <tr>\n",
              "      <th>117390</th>\n",
              "      <td>Baby Jogger 2011 City Select Stroller in Ameth...</td>\n",
              "      <td>5</td>\n",
              "      <td>I have the Baby Jogger City Select with Second...</td>\n",
              "      <td>1</td>\n",
              "    </tr>\n",
              "    <tr>\n",
              "      <th>114860</th>\n",
              "      <td>Joovy Scooter X2 Double Stroller, Greenie</td>\n",
              "      <td>4</td>\n",
              "      <td>UPDATE 9/30/2012: Okay, so I've had a chance t...</td>\n",
              "      <td>1</td>\n",
              "    </tr>\n",
              "    <tr>\n",
              "      <th>43795</th>\n",
              "      <td>Phil &amp;amp; Ted's &amp;quot;2008 Version 2&amp;quot; Sp...</td>\n",
              "      <td>4</td>\n",
              "      <td>We're keeping this stroller! After much resear...</td>\n",
              "      <td>1</td>\n",
              "    </tr>\n",
              "    <tr>\n",
              "      <th>104290</th>\n",
              "      <td>Fisher-Price Cradle 'N Swing,  My Little Snuga...</td>\n",
              "      <td>5</td>\n",
              "      <td>My husband and I cannot state enough how much ...</td>\n",
              "      <td>1</td>\n",
              "    </tr>\n",
              "    <tr>\n",
              "      <th>48559</th>\n",
              "      <td>Combi Twin Sport 2 Side by Side Double Strolle...</td>\n",
              "      <td>4</td>\n",
              "      <td>I received this stroller yesterday and liked i...</td>\n",
              "      <td>1</td>\n",
              "    </tr>\n",
              "    <tr>\n",
              "      <th>83090</th>\n",
              "      <td>Dream On Me / Mia Moda  Atmosferra Stroller, Nero</td>\n",
              "      <td>4</td>\n",
              "      <td>I recently bought this to replace a Chicco Cor...</td>\n",
              "      <td>1</td>\n",
              "    </tr>\n",
              "    <tr>\n",
              "      <th>87339</th>\n",
              "      <td>Contours Lite Stroller, Tangerine</td>\n",
              "      <td>5</td>\n",
              "      <td>CONTOURS LITE STROLLER, TANGERINE:I have a Chi...</td>\n",
              "      <td>1</td>\n",
              "    </tr>\n",
              "    <tr>\n",
              "      <th>134472</th>\n",
              "      <td>Baby Jogger City Mini GT Single Stroller, Shad...</td>\n",
              "      <td>5</td>\n",
              "      <td>Amazing, Love, Love, Love it !!! All 5 STARS a...</td>\n",
              "      <td>1</td>\n",
              "    </tr>\n",
              "    <tr>\n",
              "      <th>48755</th>\n",
              "      <td>ERGObaby Original Baby Carrier, Camel</td>\n",
              "      <td>5</td>\n",
              "      <td>and so do I! I started out with the Moby wrap ...</td>\n",
              "      <td>1</td>\n",
              "    </tr>\n",
              "    <tr>\n",
              "      <th>36509</th>\n",
              "      <td>Chicco Cortina KeyFit 30 Travel System in Adve...</td>\n",
              "      <td>5</td>\n",
              "      <td>I am a mother of 4, I have been through MANY s...</td>\n",
              "      <td>1</td>\n",
              "    </tr>\n",
              "    <tr>\n",
              "      <th>125505</th>\n",
              "      <td>Graco Trekko Classic Connect Stroller, Metropolis</td>\n",
              "      <td>4</td>\n",
              "      <td>When I found out that I was expecting, I began...</td>\n",
              "      <td>1</td>\n",
              "    </tr>\n",
              "    <tr>\n",
              "      <th>42715</th>\n",
              "      <td>NaN</td>\n",
              "      <td>5</td>\n",
              "      <td>**UPDATE**I got this play yard when my son was...</td>\n",
              "      <td>1</td>\n",
              "    </tr>\n",
              "    <tr>\n",
              "      <th>98996</th>\n",
              "      <td>Britax B-Ready Stroller, Black</td>\n",
              "      <td>5</td>\n",
              "      <td>We only have one baby (6 months old), but boug...</td>\n",
              "      <td>1</td>\n",
              "    </tr>\n",
              "    <tr>\n",
              "      <th>134518</th>\n",
              "      <td>Baby Jogger City Mini GT Double Stroller, Shad...</td>\n",
              "      <td>5</td>\n",
              "      <td>This is one amazing stroller! It is phenomenal...</td>\n",
              "      <td>1</td>\n",
              "    </tr>\n",
              "    <tr>\n",
              "      <th>152015</th>\n",
              "      <td>Samsung SEW-3037W Wireless Pan Tilt Video Baby...</td>\n",
              "      <td>4</td>\n",
              "      <td>UPDATE 2, Feb 22: Still love this baby monitor...</td>\n",
              "      <td>1</td>\n",
              "    </tr>\n",
              "    <tr>\n",
              "      <th>14205</th>\n",
              "      <td>Chicco Travel Seat Explorer</td>\n",
              "      <td>5</td>\n",
              "      <td>We were having our \"second\" child, and had NO ...</td>\n",
              "      <td>1</td>\n",
              "    </tr>\n",
              "  </tbody>\n",
              "</table>\n",
              "</div>"
            ],
            "text/plain": [
              "                                                     name  ...  sentiment\n",
              "54812   Ju-Ju-Be Be Right Back Backpack Diaper Bag, Bl...  ...          1\n",
              "85117                     The First Years Ignite Stroller  ...          1\n",
              "159924                       Twist Breastfeeding Gift Set  ...          1\n",
              "109935            BOB Revolution SE Single Stroller, Navy  ...          1\n",
              "117390  Baby Jogger 2011 City Select Stroller in Ameth...  ...          1\n",
              "114860          Joovy Scooter X2 Double Stroller, Greenie  ...          1\n",
              "43795   Phil &amp; Ted's &quot;2008 Version 2&quot; Sp...  ...          1\n",
              "104290  Fisher-Price Cradle 'N Swing,  My Little Snuga...  ...          1\n",
              "48559   Combi Twin Sport 2 Side by Side Double Strolle...  ...          1\n",
              "83090   Dream On Me / Mia Moda  Atmosferra Stroller, Nero  ...          1\n",
              "87339                   Contours Lite Stroller, Tangerine  ...          1\n",
              "134472  Baby Jogger City Mini GT Single Stroller, Shad...  ...          1\n",
              "48755               ERGObaby Original Baby Carrier, Camel  ...          1\n",
              "36509   Chicco Cortina KeyFit 30 Travel System in Adve...  ...          1\n",
              "125505  Graco Trekko Classic Connect Stroller, Metropolis  ...          1\n",
              "42715                                                 NaN  ...          1\n",
              "98996                      Britax B-Ready Stroller, Black  ...          1\n",
              "134518  Baby Jogger City Mini GT Double Stroller, Shad...  ...          1\n",
              "152015  Samsung SEW-3037W Wireless Pan Tilt Video Baby...  ...          1\n",
              "14205                         Chicco Travel Seat Explorer  ...          1\n",
              "\n",
              "[20 rows x 4 columns]"
            ]
          },
          "metadata": {
            "tags": []
          },
          "execution_count": 88
        }
      ]
    },
    {
      "cell_type": "markdown",
      "metadata": {
        "id": "G2aLd65K84Vk",
        "colab_type": "text"
      },
      "source": [
        "After positive, we look at T-20 negative reviews."
      ]
    },
    {
      "cell_type": "code",
      "metadata": {
        "id": "IH0RMY2W7pXE",
        "colab_type": "code",
        "outputId": "5a40f920-82f9-4b4c-b4dd-1446c74ba1ff",
        "colab": {
          "base_uri": "https://localhost:8080/",
          "height": 690
        }
      },
      "source": [
        "top_negative_review = np.argsort(test_score)[:20]\n",
        "print(top_negative_review)\n",
        "print(test_score[top_negative_review[0]])\n",
        "test.iloc[top_negative_review]"
      ],
      "execution_count": 0,
      "outputs": [
        {
          "output_type": "stream",
          "text": [
            "[31974  6850 16488 12258 32865 23796 30309 28365  2196  7111 21908 22866\n",
            " 32515 16755 23913  4218   258  3564 30212 14057]\n",
            "-35.580320036487905\n"
          ],
          "name": "stdout"
        },
        {
          "output_type": "execute_result",
          "data": {
            "text/html": [
              "<div>\n",
              "<style scoped>\n",
              "    .dataframe tbody tr th:only-of-type {\n",
              "        vertical-align: middle;\n",
              "    }\n",
              "\n",
              "    .dataframe tbody tr th {\n",
              "        vertical-align: top;\n",
              "    }\n",
              "\n",
              "    .dataframe thead th {\n",
              "        text-align: right;\n",
              "    }\n",
              "</style>\n",
              "<table border=\"1\" class=\"dataframe\">\n",
              "  <thead>\n",
              "    <tr style=\"text-align: right;\">\n",
              "      <th></th>\n",
              "      <th>name</th>\n",
              "      <th>rating</th>\n",
              "      <th>review_clean</th>\n",
              "      <th>sentiment</th>\n",
              "    </tr>\n",
              "  </thead>\n",
              "  <tbody>\n",
              "    <tr>\n",
              "      <th>159179</th>\n",
              "      <td>Zooper Twist Escape Stroller, Summer Day</td>\n",
              "      <td>1</td>\n",
              "      <td>I had to return this stroller for three reason...</td>\n",
              "      <td>-1</td>\n",
              "    </tr>\n",
              "    <tr>\n",
              "      <th>9486</th>\n",
              "      <td>Wimmer-Ferguson Infant Stim-Mobile</td>\n",
              "      <td>1</td>\n",
              "      <td>This product should be in the hall of fame sol...</td>\n",
              "      <td>-1</td>\n",
              "    </tr>\n",
              "    <tr>\n",
              "      <th>34800</th>\n",
              "      <td>Nuby No Spill Flip-it Cup, 12 Ounce, Colors Ma...</td>\n",
              "      <td>4</td>\n",
              "      <td>I had a frustrating experience with these two ...</td>\n",
              "      <td>1</td>\n",
              "    </tr>\n",
              "    <tr>\n",
              "      <th>69021</th>\n",
              "      <td>Peg-Perego Tatamia High Chair, White Latte</td>\n",
              "      <td>2</td>\n",
              "      <td>I can see why there are so many good reviews o...</td>\n",
              "      <td>-1</td>\n",
              "    </tr>\n",
              "    <tr>\n",
              "      <th>86159</th>\n",
              "      <td>Stork Craft Heather Dressing Table with Drawer...</td>\n",
              "      <td>2</td>\n",
              "      <td>The construction is simply terrible, and not f...</td>\n",
              "      <td>-1</td>\n",
              "    </tr>\n",
              "    <tr>\n",
              "      <th>115792</th>\n",
              "      <td>Argington Organic Bam Bam Crib Complete, Ebony</td>\n",
              "      <td>1</td>\n",
              "      <td>What a disappointment! After researching for c...</td>\n",
              "      <td>-1</td>\n",
              "    </tr>\n",
              "    <tr>\n",
              "      <th>107097</th>\n",
              "      <td>Belly Blanket Chic: Metro</td>\n",
              "      <td>1</td>\n",
              "      <td>Written claims on product packaging:\"99.9% Shi...</td>\n",
              "      <td>-1</td>\n",
              "    </tr>\n",
              "    <tr>\n",
              "      <th>154474</th>\n",
              "      <td>2.4ghz Wireless 7.0 Inch LCD Monitor + Remote ...</td>\n",
              "      <td>1</td>\n",
              "      <td>I rarely write poor reviews but this was a hug...</td>\n",
              "      <td>-1</td>\n",
              "    </tr>\n",
              "    <tr>\n",
              "      <th>4632</th>\n",
              "      <td>Playtex 3 Pack BPA Free VentAire Wide Bottles,...</td>\n",
              "      <td>1</td>\n",
              "      <td>Initially, I thought these angled bottles make...</td>\n",
              "      <td>-1</td>\n",
              "    </tr>\n",
              "    <tr>\n",
              "      <th>16721</th>\n",
              "      <td>Harmony High Chair - Windsor</td>\n",
              "      <td>1</td>\n",
              "      <td>I had seen this high chair on display at Babie...</td>\n",
              "      <td>-1</td>\n",
              "    </tr>\n",
              "    <tr>\n",
              "      <th>150003</th>\n",
              "      <td>Ingenuity Chair Top High Chair - Shiloh</td>\n",
              "      <td>1</td>\n",
              "      <td>I had never wished Amazon would allow 0 stars ...</td>\n",
              "      <td>-1</td>\n",
              "    </tr>\n",
              "    <tr>\n",
              "      <th>124245</th>\n",
              "      <td>Delta 48 Piece Nursery Storage Set, Blue</td>\n",
              "      <td>1</td>\n",
              "      <td>The packaging came very beat up and they would...</td>\n",
              "      <td>-1</td>\n",
              "    </tr>\n",
              "    <tr>\n",
              "      <th>109383</th>\n",
              "      <td>Munchkin Extending Extra Tall and Wide Metal G...</td>\n",
              "      <td>2</td>\n",
              "      <td>Assembly wasn't too terrible - took about an h...</td>\n",
              "      <td>-1</td>\n",
              "    </tr>\n",
              "    <tr>\n",
              "      <th>56402</th>\n",
              "      <td>Playtex Diaper Genie Elite Diaper Disposal Pai...</td>\n",
              "      <td>1</td>\n",
              "      <td>What can I say, I was sucked in by the hype li...</td>\n",
              "      <td>-1</td>\n",
              "    </tr>\n",
              "    <tr>\n",
              "      <th>12254</th>\n",
              "      <td>North States Superyard Play Yard, Grey, 6 Panel</td>\n",
              "      <td>1</td>\n",
              "      <td>We were so disappointed with this enclosure sy...</td>\n",
              "      <td>-1</td>\n",
              "    </tr>\n",
              "    <tr>\n",
              "      <th>146213</th>\n",
              "      <td>Baby Boom MVP Nap Mat, Blue</td>\n",
              "      <td>2</td>\n",
              "      <td>The description did not mention that the botto...</td>\n",
              "      <td>-1</td>\n",
              "    </tr>\n",
              "    <tr>\n",
              "      <th>73893</th>\n",
              "      <td>Cloth Diaper Sprayer--styles may vary</td>\n",
              "      <td>1</td>\n",
              "      <td>I bought this sprayer out of desperation durin...</td>\n",
              "      <td>-1</td>\n",
              "    </tr>\n",
              "    <tr>\n",
              "      <th>82584</th>\n",
              "      <td>Safety 1st Air Protect Complete Convertible Ca...</td>\n",
              "      <td>1</td>\n",
              "      <td>I want to start this review off with an acknow...</td>\n",
              "      <td>-1</td>\n",
              "    </tr>\n",
              "    <tr>\n",
              "      <th>131928</th>\n",
              "      <td>Withings Smart Baby Monitor, White</td>\n",
              "      <td>1</td>\n",
              "      <td>Ok, the good.  During the day, the quality of ...</td>\n",
              "      <td>-1</td>\n",
              "    </tr>\n",
              "    <tr>\n",
              "      <th>28939</th>\n",
              "      <td>Regalo My Cot Portable Bed, Royal Blue</td>\n",
              "      <td>1</td>\n",
              "      <td>If I could give this product zero stars I woul...</td>\n",
              "      <td>-1</td>\n",
              "    </tr>\n",
              "  </tbody>\n",
              "</table>\n",
              "</div>"
            ],
            "text/plain": [
              "                                                     name  ...  sentiment\n",
              "159179           Zooper Twist Escape Stroller, Summer Day  ...         -1\n",
              "9486                   Wimmer-Ferguson Infant Stim-Mobile  ...         -1\n",
              "34800   Nuby No Spill Flip-it Cup, 12 Ounce, Colors Ma...  ...          1\n",
              "69021          Peg-Perego Tatamia High Chair, White Latte  ...         -1\n",
              "86159   Stork Craft Heather Dressing Table with Drawer...  ...         -1\n",
              "115792     Argington Organic Bam Bam Crib Complete, Ebony  ...         -1\n",
              "107097                          Belly Blanket Chic: Metro  ...         -1\n",
              "154474  2.4ghz Wireless 7.0 Inch LCD Monitor + Remote ...  ...         -1\n",
              "4632    Playtex 3 Pack BPA Free VentAire Wide Bottles,...  ...         -1\n",
              "16721                        Harmony High Chair - Windsor  ...         -1\n",
              "150003            Ingenuity Chair Top High Chair - Shiloh  ...         -1\n",
              "124245           Delta 48 Piece Nursery Storage Set, Blue  ...         -1\n",
              "109383  Munchkin Extending Extra Tall and Wide Metal G...  ...         -1\n",
              "56402   Playtex Diaper Genie Elite Diaper Disposal Pai...  ...         -1\n",
              "12254     North States Superyard Play Yard, Grey, 6 Panel  ...         -1\n",
              "146213                        Baby Boom MVP Nap Mat, Blue  ...         -1\n",
              "73893               Cloth Diaper Sprayer--styles may vary  ...         -1\n",
              "82584   Safety 1st Air Protect Complete Convertible Ca...  ...         -1\n",
              "131928                 Withings Smart Baby Monitor, White  ...         -1\n",
              "28939              Regalo My Cot Portable Bed, Royal Blue  ...         -1\n",
              "\n",
              "[20 rows x 4 columns]"
            ]
          },
          "metadata": {
            "tags": []
          },
          "execution_count": 89
        }
      ]
    },
    {
      "cell_type": "markdown",
      "metadata": {
        "id": "lL2k91za9-Vx",
        "colab_type": "text"
      },
      "source": [
        "The main goal here is to find out, which specific products have a consistent tendency of being in a specific label class. This goes with marketing and production departments and generates huge insights"
      ]
    },
    {
      "cell_type": "markdown",
      "metadata": {
        "id": "z8w0c7NK_LxV",
        "colab_type": "text"
      },
      "source": [
        "Finally, before deployment, lets check the accuracy of our model in predicting sentiment.\n",
        "\n",
        "In this case accuracu is sum of correctly predicted outcome divided by total outcomes"
      ]
    },
    {
      "cell_type": "code",
      "metadata": {
        "id": "6CcFu574973x",
        "colab_type": "code",
        "outputId": "36c722c6-ae86-4d2a-f859-2b1ba6e163e2",
        "colab": {
          "base_uri": "https://localhost:8080/",
          "height": 34
        }
      },
      "source": [
        "predicted_sentiment = sentiment_model.predict(test_matrix)\n",
        "\n",
        "correct_predict = np.sum(predicted_sentiment == test['sentiment'])\n",
        "\n",
        "accuracy = correct_predict / len(test['sentiment'])\n",
        "\n",
        "print('Accuracy of the model is {}'.format(accuracy))"
      ],
      "execution_count": 0,
      "outputs": [
        {
          "output_type": "stream",
          "text": [
            "Accuracy of the model is 0.9333753110851248\n"
          ],
          "name": "stdout"
        }
      ]
    },
    {
      "cell_type": "markdown",
      "metadata": {
        "id": "_TzjJ-WM_eOj",
        "colab_type": "text"
      },
      "source": [
        "With a 93% accuracy, our model is good to go.\n",
        "\n",
        "To do: incorporate decision boundary figures of rating == 3."
      ]
    },
    {
      "cell_type": "code",
      "metadata": {
        "id": "g6VUlby0_GOs",
        "colab_type": "code",
        "colab": {}
      },
      "source": [
        ""
      ],
      "execution_count": 0,
      "outputs": []
    },
    {
      "cell_type": "markdown",
      "metadata": {
        "id": "L8J_Lpd6QdRu",
        "colab_type": "text"
      },
      "source": [
        "Next, we try to the following:\n",
        "\n",
        "1. Extract features from the reviews.\n",
        "\n",
        "Here, we count number of times 'words' appear in reviews and try to find out how many times a specific word has occurred. This leads us to finding products which were classified as 'perfect', 'awesome', 'awful' etc by customers. The key is we understand from marketing point of view, how ar eour products being described in the market."
      ]
    },
    {
      "cell_type": "markdown",
      "metadata": {
        "id": "VF_l_d4GVj80",
        "colab_type": "text"
      },
      "source": [
        "We begin by taking a look at the word cloud of our reviews. This is a graphical way of seeing what words are in higher frequency in the review. We try to pick any qualitative words from there."
      ]
    },
    {
      "cell_type": "code",
      "metadata": {
        "id": "4a-0U7PWRg9b",
        "colab_type": "code",
        "colab": {}
      },
      "source": [
        "from wordcloud import WordCloud, STOPWORDS\n",
        "import matplotlib.pyplot as plt\n",
        "% matplotlib inline"
      ],
      "execution_count": 0,
      "outputs": []
    },
    {
      "cell_type": "code",
      "metadata": {
        "id": "1LDCRPXaUFND",
        "colab_type": "code",
        "outputId": "b7389560-cae9-4b3e-eb25-1ea0afff1073",
        "colab": {
          "base_uri": "https://localhost:8080/",
          "height": 54
        }
      },
      "source": [
        "text = df['review_clean'][0]\n",
        "text"
      ],
      "execution_count": 0,
      "outputs": [
        {
          "output_type": "execute_result",
          "data": {
            "text/plain": [
              "'it came early and was not disappointed. i love planet wise bags and now my wipe holder. it keps my osocozy wipes moist and does not leak. highly recommend it.'"
            ]
          },
          "metadata": {
            "tags": []
          },
          "execution_count": 94
        }
      ]
    },
    {
      "cell_type": "code",
      "metadata": {
        "id": "ekgMpwhHUMIg",
        "colab_type": "code",
        "outputId": "c4769f58-5309-4de0-c5e7-9058778eb0c4",
        "colab": {
          "base_uri": "https://localhost:8080/",
          "height": 198
        }
      },
      "source": [
        "wordcloud = WordCloud(max_words=100, background_color=\"black\").generate(text)\n",
        "\n",
        "# Display the generated image:\n",
        "plt.imshow(wordcloud, interpolation='bilinear')\n",
        "plt.axis(\"off\")\n",
        "plt.show()"
      ],
      "execution_count": 0,
      "outputs": [
        {
          "output_type": "display_data",
          "data": {
            "image/png": "[encoded data removed]",
            "text/plain": [
              "<Figure size 432x288 with 1 Axes>"
            ]
          },
          "metadata": {
            "tags": [],
            "needs_background": "light"
          }
        }
      ]
    },
    {
      "cell_type": "code",
      "metadata": {
        "id": "ExpJI2BFU-sv",
        "colab_type": "code",
        "outputId": "510a81fb-2ce2-490c-b67f-1fafa2c9180a",
        "colab": {
          "base_uri": "https://localhost:8080/",
          "height": 575
        }
      },
      "source": [
        "text = \" \".join(review for review in df.review_clean)\n",
        "wordcloud = WordCloud(max_words=100, background_color=\"black\").generate(text)\n",
        "\n",
        "# Display the generated image:\n",
        "plt.figure(figsize=(20,10))\n",
        "plt.imshow(wordcloud, interpolation='bilinear')\n",
        "plt.axis(\"off\")\n",
        "plt.show()"
      ],
      "execution_count": 0,
      "outputs": [
        {
          "output_type": "display_data",
          "data": {
            "image/png": "[encoded data removed]",
            "text/plain": [
              "<Figure size 1440x720 with 1 Axes>"
            ]
          },
          "metadata": {
            "tags": [],
            "needs_background": "light"
          }
        }
      ]
    },
    {
      "cell_type": "code",
      "metadata": {
        "id": "gjFeiUBMQ8Ve",
        "colab_type": "code",
        "outputId": "6e1a5abd-303d-4953-b4d5-47d0b495fef0",
        "colab": {
          "base_uri": "https://localhost:8080/",
          "height": 34
        }
      },
      "source": [
        "#So we see that some words like 'perfect', 'problem' have higher frequency of occurring.\n",
        "#Apart from these, there are total of 193 important words listed in a json file\n",
        "#So, let's begin\n",
        "#Counting number of words in reviews\n",
        "import json\n",
        "with open('important_words.json') as important_words_file:    \n",
        "    important_words = json.load(important_words_file)\n",
        "print(important_words[:3])\n",
        "\n"
      ],
      "execution_count": 0,
      "outputs": [
        {
          "output_type": "stream",
          "text": [
            "['baby', 'one', 'great']\n"
          ],
          "name": "stdout"
        }
      ]
    },
    {
      "cell_type": "code",
      "metadata": {
        "id": "JoGeo_AQY3FI",
        "colab_type": "code",
        "outputId": "8517abe5-cd6f-421a-d911-7ee391fec1b2",
        "colab": {
          "base_uri": "https://localhost:8080/",
          "height": 176
        }
      },
      "source": [
        "for word in important_words:\n",
        "    df[word] = df['review_clean'].apply(lambda s : s.split().count(word))\n",
        "df.head(1)\n"
      ],
      "execution_count": 0,
      "outputs": [
        {
          "output_type": "execute_result",
          "data": {
            "text/html": [
              "<div>\n",
              "<style scoped>\n",
              "    .dataframe tbody tr th:only-of-type {\n",
              "        vertical-align: middle;\n",
              "    }\n",
              "\n",
              "    .dataframe tbody tr th {\n",
              "        vertical-align: top;\n",
              "    }\n",
              "\n",
              "    .dataframe thead th {\n",
              "        text-align: right;\n",
              "    }\n",
              "</style>\n",
              "<table border=\"1\" class=\"dataframe\">\n",
              "  <thead>\n",
              "    <tr style=\"text-align: right;\">\n",
              "      <th></th>\n",
              "      <th>name</th>\n",
              "      <th>rating</th>\n",
              "      <th>review_clean</th>\n",
              "      <th>sentiment</th>\n",
              "      <th>baby</th>\n",
              "      <th>one</th>\n",
              "      <th>great</th>\n",
              "      <th>love</th>\n",
              "      <th>use</th>\n",
              "      <th>would</th>\n",
              "      <th>like</th>\n",
              "      <th>easy</th>\n",
              "      <th>little</th>\n",
              "      <th>seat</th>\n",
              "      <th>old</th>\n",
              "      <th>well</th>\n",
              "      <th>get</th>\n",
              "      <th>also</th>\n",
              "      <th>really</th>\n",
              "      <th>son</th>\n",
              "      <th>time</th>\n",
              "      <th>bought</th>\n",
              "      <th>product</th>\n",
              "      <th>good</th>\n",
              "      <th>daughter</th>\n",
              "      <th>much</th>\n",
              "      <th>loves</th>\n",
              "      <th>stroller</th>\n",
              "      <th>put</th>\n",
              "      <th>months</th>\n",
              "      <th>car</th>\n",
              "      <th>still</th>\n",
              "      <th>back</th>\n",
              "      <th>used</th>\n",
              "      <th>recommend</th>\n",
              "      <th>first</th>\n",
              "      <th>even</th>\n",
              "      <th>perfect</th>\n",
              "      <th>nice</th>\n",
              "      <th>bag</th>\n",
              "      <th>...</th>\n",
              "      <th>looks</th>\n",
              "      <th>second</th>\n",
              "      <th>piece</th>\n",
              "      <th>box</th>\n",
              "      <th>pretty</th>\n",
              "      <th>trying</th>\n",
              "      <th>difficult</th>\n",
              "      <th>together</th>\n",
              "      <th>though</th>\n",
              "      <th>give</th>\n",
              "      <th>started</th>\n",
              "      <th>anything</th>\n",
              "      <th>last</th>\n",
              "      <th>company</th>\n",
              "      <th>come</th>\n",
              "      <th>returned</th>\n",
              "      <th>maybe</th>\n",
              "      <th>took</th>\n",
              "      <th>broke</th>\n",
              "      <th>makes</th>\n",
              "      <th>stay</th>\n",
              "      <th>instead</th>\n",
              "      <th>idea</th>\n",
              "      <th>head</th>\n",
              "      <th>said</th>\n",
              "      <th>less</th>\n",
              "      <th>went</th>\n",
              "      <th>working</th>\n",
              "      <th>high</th>\n",
              "      <th>unit</th>\n",
              "      <th>seems</th>\n",
              "      <th>picture</th>\n",
              "      <th>completely</th>\n",
              "      <th>wish</th>\n",
              "      <th>buying</th>\n",
              "      <th>babies</th>\n",
              "      <th>won</th>\n",
              "      <th>tub</th>\n",
              "      <th>almost</th>\n",
              "      <th>either</th>\n",
              "    </tr>\n",
              "  </thead>\n",
              "  <tbody>\n",
              "    <tr>\n",
              "      <th>0</th>\n",
              "      <td>Planetwise Wipe Pouch</td>\n",
              "      <td>5</td>\n",
              "      <td>it came early and was not disappointed. i love...</td>\n",
              "      <td>1</td>\n",
              "      <td>0</td>\n",
              "      <td>0</td>\n",
              "      <td>0</td>\n",
              "      <td>1</td>\n",
              "      <td>0</td>\n",
              "      <td>0</td>\n",
              "      <td>0</td>\n",
              "      <td>0</td>\n",
              "      <td>0</td>\n",
              "      <td>0</td>\n",
              "      <td>0</td>\n",
              "      <td>0</td>\n",
              "      <td>0</td>\n",
              "      <td>0</td>\n",
              "      <td>0</td>\n",
              "      <td>0</td>\n",
              "      <td>0</td>\n",
              "      <td>0</td>\n",
              "      <td>0</td>\n",
              "      <td>0</td>\n",
              "      <td>0</td>\n",
              "      <td>0</td>\n",
              "      <td>0</td>\n",
              "      <td>0</td>\n",
              "      <td>0</td>\n",
              "      <td>0</td>\n",
              "      <td>0</td>\n",
              "      <td>0</td>\n",
              "      <td>0</td>\n",
              "      <td>0</td>\n",
              "      <td>1</td>\n",
              "      <td>0</td>\n",
              "      <td>0</td>\n",
              "      <td>0</td>\n",
              "      <td>0</td>\n",
              "      <td>0</td>\n",
              "      <td>...</td>\n",
              "      <td>0</td>\n",
              "      <td>0</td>\n",
              "      <td>0</td>\n",
              "      <td>0</td>\n",
              "      <td>0</td>\n",
              "      <td>0</td>\n",
              "      <td>0</td>\n",
              "      <td>0</td>\n",
              "      <td>0</td>\n",
              "      <td>0</td>\n",
              "      <td>0</td>\n",
              "      <td>0</td>\n",
              "      <td>0</td>\n",
              "      <td>0</td>\n",
              "      <td>0</td>\n",
              "      <td>0</td>\n",
              "      <td>0</td>\n",
              "      <td>0</td>\n",
              "      <td>0</td>\n",
              "      <td>0</td>\n",
              "      <td>0</td>\n",
              "      <td>0</td>\n",
              "      <td>0</td>\n",
              "      <td>0</td>\n",
              "      <td>0</td>\n",
              "      <td>0</td>\n",
              "      <td>0</td>\n",
              "      <td>0</td>\n",
              "      <td>0</td>\n",
              "      <td>0</td>\n",
              "      <td>0</td>\n",
              "      <td>0</td>\n",
              "      <td>0</td>\n",
              "      <td>0</td>\n",
              "      <td>0</td>\n",
              "      <td>0</td>\n",
              "      <td>0</td>\n",
              "      <td>0</td>\n",
              "      <td>0</td>\n",
              "      <td>0</td>\n",
              "    </tr>\n",
              "  </tbody>\n",
              "</table>\n",
              "<p>1 rows × 197 columns</p>\n",
              "</div>"
            ],
            "text/plain": [
              "                    name  rating  ... almost  either\n",
              "0  Planetwise Wipe Pouch       5  ...      0       0\n",
              "\n",
              "[1 rows x 197 columns]"
            ]
          },
          "metadata": {
            "tags": []
          },
          "execution_count": 107
        }
      ]
    },
    {
      "cell_type": "code",
      "metadata": {
        "id": "279rNnWIYJgg",
        "colab_type": "code",
        "outputId": "92a12668-7f7d-4744-d98e-4f8b1f9a3870",
        "colab": {
          "base_uri": "https://localhost:8080/",
          "height": 34
        }
      },
      "source": [
        "df['contains_perfect'] = df['perfect'] >=1\n",
        "print(df['contains_perfect'].sum())"
      ],
      "execution_count": 0,
      "outputs": [
        {
          "output_type": "stream",
          "text": [
            "10271\n"
          ],
          "name": "stdout"
        }
      ]
    },
    {
      "cell_type": "code",
      "metadata": {
        "id": "-HTUPhiWbXnj",
        "colab_type": "code",
        "colab": {}
      },
      "source": [
        "def get_numpy_data(dataframe, features, label):\n",
        "    dataframe['constant'] = 1\n",
        "    features = ['constant'] + features\n",
        "    features_frame = dataframe[features]\n",
        "    feature_matrix = features_frame.to_numpy()\n",
        "    label_sarray = dataframe[label]\n",
        "    label_array = label_sarray.to_numpy()\n",
        "    return(feature_matrix, label_array)\n",
        "\n",
        "feature_matrix, sentiment = get_numpy_data(df, important_words, 'sentiment')"
      ],
      "execution_count": 0,
      "outputs": []
    },
    {
      "cell_type": "code",
      "metadata": {
        "id": "9OUsG5bSdVGF",
        "colab_type": "code",
        "outputId": "8f702e24-c961-49ec-dbea-5d1a33359c81",
        "colab": {
          "base_uri": "https://localhost:8080/",
          "height": 34
        }
      },
      "source": [
        "print(feature_matrix.shape)"
      ],
      "execution_count": 0,
      "outputs": [
        {
          "output_type": "stream",
          "text": [
            "(166752, 194)\n"
          ],
          "name": "stdout"
        }
      ]
    },
    {
      "cell_type": "code",
      "metadata": {
        "id": "vAg2Kz07ePjB",
        "colab_type": "code",
        "colab": {}
      },
      "source": [
        "def predict_probability(feature_matrix, coefficients):\n",
        "    # Take dot product of feature_matrix and coefficients  \n",
        "    # YOUR CODE HERE\n",
        "    score = np.dot(feature_matrix, coefficients) # N * 1\n",
        "    \n",
        "    # Compute P(y_i = +1 | x_i, w) using the link function\n",
        "    # YOUR CODE HERE\n",
        "    predictions = 1.0/(1+np.exp(-score))\n",
        "    \n",
        "    # return predictions\n",
        "    return predictions\n",
        "\n",
        "def feature_derivative(errors, feature):     \n",
        "    # Compute the dot product of errors and feature\n",
        "    derivative = np.dot(np.transpose(errors), feature)\n",
        "    # Return the derivative\n",
        "    return derivative\n",
        "\n",
        "def compute_log_likelihood(feature_matrix, sentiment, coefficients):\n",
        "    indicator = (sentiment==+1)\n",
        "    scores = np.dot(feature_matrix, coefficients)\n",
        "    # scores.shape (53072L, 1L)\n",
        "    # indicator.shape (53072L,)\n",
        "    lp = np.sum((np.transpose(np.array([indicator]))-1)*scores - np.log(1. + np.exp(-scores)))\n",
        "    return lp\n",
        "\n",
        "    "
      ],
      "execution_count": 0,
      "outputs": []
    },
    {
      "cell_type": "code",
      "metadata": {
        "id": "t2TuaqLOevTO",
        "colab_type": "code",
        "colab": {}
      },
      "source": [
        "from math import sqrt\n",
        "def logistic_regression(feature_matrix, sentiment, initial_coefficients, step_size, max_iter):\n",
        "    coefficients = np.array(initial_coefficients) # make sure it's a numpy array\n",
        "    # lplist = []\n",
        "    for itr in range(max_iter):\n",
        "        # Predict P(y_i = +1|x_1,w) using your predict_probability() function\n",
        "        # YOUR CODE HERE\n",
        "        predictions = predict_probability(feature_matrix, coefficients)\n",
        "\n",
        "        # Compute indicator value for (y_i = +1)\n",
        "        indicator = (sentiment==+1)\n",
        "\n",
        "        # Compute the errors as indicator - predictions\n",
        "        errors = np.transpose(np.array([indicator])) - predictions\n",
        "\n",
        "        for j in range(len(coefficients)): # loop over each coefficient\n",
        "            # Recall that feature_matrix[:,j] is the feature column associated with coefficients[j]\n",
        "            # compute the derivative for coefficients[j]. Save it in a variable called derivative\n",
        "            # YOUR CODE HERE\n",
        "            derivative = feature_derivative(errors, feature_matrix[:,j])\n",
        "\n",
        "            # add the step size times the derivative to the current coefficient\n",
        "            # YOUR CODE HERE\n",
        "            coefficients[j] += step_size*derivative\n",
        "\n",
        "        # Checking whether log likelihood is increasing\n",
        "        if itr <= 15 or (itr <= 100 and itr % 10 == 0) or (itr <= 1000 and itr % 100 == 0) \\\n",
        "        or (itr <= 10000 and itr % 1000 == 0) or itr % 10000 == 0:\n",
        "            # lplist.append(compute_log_likelihood(feature_matrix, sentiment, coefficients))\n",
        "            lp = compute_log_likelihood(feature_matrix, sentiment, coefficients)\n",
        "            print('iteration %*d: log likelihood of observed labels = %.8f' % \\\n",
        "                (int(np.ceil(np.log10(max_iter))), itr, lp))\n",
        "\n",
        "        return coefficients"
      ],
      "execution_count": 0,
      "outputs": []
    },
    {
      "cell_type": "code",
      "metadata": {
        "id": "gMxSx1MzfgJU",
        "colab_type": "code",
        "colab": {}
      },
      "source": [
        "initial_coefficients = np.zeros((194,1))\n",
        "step_size = 1e-7\n",
        "max_iter = 301"
      ],
      "execution_count": 0,
      "outputs": []
    },
    {
      "cell_type": "code",
      "metadata": {
        "id": "6EHvKCKjflNP",
        "colab_type": "code",
        "outputId": "e2eb8275-42f3-4fdc-a298-f5488fb5afd4",
        "colab": {
          "base_uri": "https://localhost:8080/",
          "height": 34
        }
      },
      "source": [
        "coefficients = logistic_regression(feature_matrix, sentiment, initial_coefficients, step_size, max_iter)"
      ],
      "execution_count": 0,
      "outputs": [
        {
          "output_type": "stream",
          "text": [
            "iteration   0: log likelihood of observed labels = -114809.90627878\n"
          ],
          "name": "stdout"
        }
      ]
    },
    {
      "cell_type": "code",
      "metadata": {
        "id": "qPOEJsxaftL5",
        "colab_type": "code",
        "outputId": "f0b9e459-bbeb-433b-e4f0-8a14925a6bc9",
        "colab": {
          "base_uri": "https://localhost:8080/",
          "height": 34
        }
      },
      "source": [
        "coefficients = logistic_regression(feature_matrix, sentiment, initial_coefficients, step_size, max_iter)"
      ],
      "execution_count": 0,
      "outputs": [
        {
          "output_type": "stream",
          "text": [
            "iteration   0: log likelihood of observed labels = -114809.90627878\n"
          ],
          "name": "stdout"
        }
      ]
    },
    {
      "cell_type": "code",
      "metadata": {
        "id": "slbh13jjgon_",
        "colab_type": "code",
        "outputId": "fa79c8a7-3b92-4c35-bb88-19795d2825f9",
        "colab": {
          "base_uri": "https://localhost:8080/",
          "height": 50
        }
      },
      "source": [
        "predictions = predict_probability(feature_matrix, coefficients)\n",
        "NumPositive = (predictions > 0.5).sum()\n",
        "print(NumPositive)\n",
        "\n",
        "score = np.dot(feature_matrix, coefficients) # N * 1\n",
        "print((score > 0).sum())"
      ],
      "execution_count": 0,
      "outputs": [
        {
          "output_type": "stream",
          "text": [
            "166752\n",
            "166752\n"
          ],
          "name": "stdout"
        }
      ]
    },
    {
      "cell_type": "code",
      "metadata": {
        "id": "3oO0FP0phDIp",
        "colab_type": "code",
        "outputId": "89a21ce9-bc20-4105-8695-c261e876ab41",
        "colab": {
          "base_uri": "https://localhost:8080/",
          "height": 50
        }
      },
      "source": [
        "correct_num = np.sum((np.transpose(predictions.flatten())> 0.5) == np.array(df['sentiment']>0))\n",
        "total_num = len(df['sentiment'])\n",
        "print(\"correct_num: {}, total_num: {}\".format(correct_num, total_num))\n",
        "accuracy = correct_num * 1./ total_num\n",
        "print(accuracy)"
      ],
      "execution_count": 0,
      "outputs": [
        {
          "output_type": "stream",
          "text": [
            "correct_num: 140259, total_num: 166752\n",
            "0.8411233448474381\n"
          ],
          "name": "stdout"
        }
      ]
    },
    {
      "cell_type": "code",
      "metadata": {
        "id": "-FuD6OV3hbtO",
        "colab_type": "code",
        "colab": {}
      },
      "source": [
        "coefficients = list(coefficients[1:]) # exclude intercept\n",
        "word_coefficient_tuples = [(word, coefficient) for word, coefficient in zip(important_words, coefficients)]\n",
        "word_coefficient_tuples = sorted(word_coefficient_tuples, key=lambda x:x[1], reverse=True)"
      ],
      "execution_count": 0,
      "outputs": []
    },
    {
      "cell_type": "markdown",
      "metadata": {
        "id": "ok6odcTm0QrO",
        "colab_type": "text"
      },
      "source": [
        "Finally, we get our top 10 positive words and top 10 negative words, which we can use to scan through the database and find corresponding products for which these reviews are given."
      ]
    },
    {
      "cell_type": "code",
      "metadata": {
        "id": "Xzwr8HSDhopU",
        "colab_type": "code",
        "outputId": "b08fbd45-43e9-4f5e-fded-3e87e82a696a",
        "colab": {
          "base_uri": "https://localhost:8080/",
          "height": 185
        }
      },
      "source": [
        "word_coefficient_tuples[:10]"
      ],
      "execution_count": 0,
      "outputs": [
        {
          "output_type": "execute_result",
          "data": {
            "text/plain": [
              "[('baby', array([0.00182375])),\n",
              " ('one', array([0.00176195])),\n",
              " ('little', array([0.00149305])),\n",
              " ('love', array([0.00147175])),\n",
              " ('great', array([0.00146265])),\n",
              " ('easy', array([0.00144545])),\n",
              " ('like', array([0.0013905])),\n",
              " ('use', array([0.0013472])),\n",
              " ('would', array([0.00122275])),\n",
              " ('get', array([0.0009881]))]"
            ]
          },
          "metadata": {
            "tags": []
          },
          "execution_count": 133
        }
      ]
    },
    {
      "cell_type": "code",
      "metadata": {
        "id": "NEWs9RIChsfK",
        "colab_type": "code",
        "outputId": "1ab37201-2ba5-4520-edde-ff42d34e49ba",
        "colab": {
          "base_uri": "https://localhost:8080/",
          "height": 185
        }
      },
      "source": [
        "word_coefficient_tuples[-10:]"
      ],
      "execution_count": 0,
      "outputs": [
        {
          "output_type": "execute_result",
          "data": {
            "text/plain": [
              "[('unit', array([2.64e-05])),\n",
              " ('cheap', array([2.36e-05])),\n",
              " ('amazon', array([1.855e-05])),\n",
              " ('company', array([1.45e-05])),\n",
              " ('won', array([3.5e-06])),\n",
              " ('broke', array([-1.24e-05])),\n",
              " ('returned', array([-2.95e-05])),\n",
              " ('disappointed', array([-3.945e-05])),\n",
              " ('return', array([-5.395e-05])),\n",
              " ('waste', array([-5.635e-05]))]"
            ]
          },
          "metadata": {
            "tags": []
          },
          "execution_count": 134
        }
      ]
    },
    {
      "cell_type": "code",
      "metadata": {
        "id": "EZGxFqSnzx_c",
        "colab_type": "code",
        "outputId": "0f024ce3-cbb7-4173-ebfe-b78d45bbf85d",
        "colab": {
          "base_uri": "https://localhost:8080/",
          "height": 1000
        }
      },
      "source": [
        "df[df['review_clean'].str.contains('waste')]"
      ],
      "execution_count": 0,
      "outputs": [
        {
          "output_type": "execute_result",
          "data": {
            "text/html": [
              "<div>\n",
              "<style scoped>\n",
              "    .dataframe tbody tr th:only-of-type {\n",
              "        vertical-align: middle;\n",
              "    }\n",
              "\n",
              "    .dataframe tbody tr th {\n",
              "        vertical-align: top;\n",
              "    }\n",
              "\n",
              "    .dataframe thead th {\n",
              "        text-align: right;\n",
              "    }\n",
              "</style>\n",
              "<table border=\"1\" class=\"dataframe\">\n",
              "  <thead>\n",
              "    <tr style=\"text-align: right;\">\n",
              "      <th></th>\n",
              "      <th>name</th>\n",
              "      <th>rating</th>\n",
              "      <th>review_clean</th>\n",
              "      <th>sentiment</th>\n",
              "      <th>baby</th>\n",
              "      <th>one</th>\n",
              "      <th>great</th>\n",
              "      <th>love</th>\n",
              "      <th>use</th>\n",
              "      <th>would</th>\n",
              "      <th>like</th>\n",
              "      <th>easy</th>\n",
              "      <th>little</th>\n",
              "      <th>seat</th>\n",
              "      <th>old</th>\n",
              "      <th>well</th>\n",
              "      <th>get</th>\n",
              "      <th>also</th>\n",
              "      <th>really</th>\n",
              "      <th>son</th>\n",
              "      <th>time</th>\n",
              "      <th>bought</th>\n",
              "      <th>product</th>\n",
              "      <th>good</th>\n",
              "      <th>daughter</th>\n",
              "      <th>much</th>\n",
              "      <th>loves</th>\n",
              "      <th>stroller</th>\n",
              "      <th>put</th>\n",
              "      <th>months</th>\n",
              "      <th>car</th>\n",
              "      <th>still</th>\n",
              "      <th>back</th>\n",
              "      <th>used</th>\n",
              "      <th>recommend</th>\n",
              "      <th>first</th>\n",
              "      <th>even</th>\n",
              "      <th>perfect</th>\n",
              "      <th>nice</th>\n",
              "      <th>bag</th>\n",
              "      <th>...</th>\n",
              "      <th>piece</th>\n",
              "      <th>box</th>\n",
              "      <th>pretty</th>\n",
              "      <th>trying</th>\n",
              "      <th>difficult</th>\n",
              "      <th>together</th>\n",
              "      <th>though</th>\n",
              "      <th>give</th>\n",
              "      <th>started</th>\n",
              "      <th>anything</th>\n",
              "      <th>last</th>\n",
              "      <th>company</th>\n",
              "      <th>come</th>\n",
              "      <th>returned</th>\n",
              "      <th>maybe</th>\n",
              "      <th>took</th>\n",
              "      <th>broke</th>\n",
              "      <th>makes</th>\n",
              "      <th>stay</th>\n",
              "      <th>instead</th>\n",
              "      <th>idea</th>\n",
              "      <th>head</th>\n",
              "      <th>said</th>\n",
              "      <th>less</th>\n",
              "      <th>went</th>\n",
              "      <th>working</th>\n",
              "      <th>high</th>\n",
              "      <th>unit</th>\n",
              "      <th>seems</th>\n",
              "      <th>picture</th>\n",
              "      <th>completely</th>\n",
              "      <th>wish</th>\n",
              "      <th>buying</th>\n",
              "      <th>babies</th>\n",
              "      <th>won</th>\n",
              "      <th>tub</th>\n",
              "      <th>almost</th>\n",
              "      <th>either</th>\n",
              "      <th>contains_perfect</th>\n",
              "      <th>constant</th>\n",
              "    </tr>\n",
              "  </thead>\n",
              "  <tbody>\n",
              "    <tr>\n",
              "      <th>45</th>\n",
              "      <td>SoftPlay Cloth Book, Love</td>\n",
              "      <td>1</td>\n",
              "      <td>This book is boring. Nothing to stimulate my g...</td>\n",
              "      <td>-1</td>\n",
              "      <td>0</td>\n",
              "      <td>0</td>\n",
              "      <td>0</td>\n",
              "      <td>0</td>\n",
              "      <td>0</td>\n",
              "      <td>1</td>\n",
              "      <td>0</td>\n",
              "      <td>0</td>\n",
              "      <td>0</td>\n",
              "      <td>0</td>\n",
              "      <td>0</td>\n",
              "      <td>0</td>\n",
              "      <td>0</td>\n",
              "      <td>0</td>\n",
              "      <td>0</td>\n",
              "      <td>0</td>\n",
              "      <td>0</td>\n",
              "      <td>0</td>\n",
              "      <td>0</td>\n",
              "      <td>0</td>\n",
              "      <td>0</td>\n",
              "      <td>0</td>\n",
              "      <td>0</td>\n",
              "      <td>0</td>\n",
              "      <td>0</td>\n",
              "      <td>0</td>\n",
              "      <td>0</td>\n",
              "      <td>0</td>\n",
              "      <td>0</td>\n",
              "      <td>0</td>\n",
              "      <td>1</td>\n",
              "      <td>0</td>\n",
              "      <td>0</td>\n",
              "      <td>0</td>\n",
              "      <td>0</td>\n",
              "      <td>0</td>\n",
              "      <td>...</td>\n",
              "      <td>0</td>\n",
              "      <td>0</td>\n",
              "      <td>0</td>\n",
              "      <td>0</td>\n",
              "      <td>0</td>\n",
              "      <td>0</td>\n",
              "      <td>0</td>\n",
              "      <td>0</td>\n",
              "      <td>0</td>\n",
              "      <td>0</td>\n",
              "      <td>0</td>\n",
              "      <td>0</td>\n",
              "      <td>0</td>\n",
              "      <td>0</td>\n",
              "      <td>0</td>\n",
              "      <td>0</td>\n",
              "      <td>0</td>\n",
              "      <td>0</td>\n",
              "      <td>0</td>\n",
              "      <td>0</td>\n",
              "      <td>0</td>\n",
              "      <td>0</td>\n",
              "      <td>0</td>\n",
              "      <td>0</td>\n",
              "      <td>0</td>\n",
              "      <td>0</td>\n",
              "      <td>0</td>\n",
              "      <td>0</td>\n",
              "      <td>0</td>\n",
              "      <td>0</td>\n",
              "      <td>0</td>\n",
              "      <td>0</td>\n",
              "      <td>0</td>\n",
              "      <td>0</td>\n",
              "      <td>0</td>\n",
              "      <td>0</td>\n",
              "      <td>0</td>\n",
              "      <td>0</td>\n",
              "      <td>False</td>\n",
              "      <td>1</td>\n",
              "    </tr>\n",
              "    <tr>\n",
              "      <th>63</th>\n",
              "      <td>Hunnt&amp;reg; Falling Flowers and Birds Kids Nurs...</td>\n",
              "      <td>1</td>\n",
              "      <td>The reason:Small sizeHard to apply on the wall...</td>\n",
              "      <td>-1</td>\n",
              "      <td>0</td>\n",
              "      <td>1</td>\n",
              "      <td>0</td>\n",
              "      <td>0</td>\n",
              "      <td>0</td>\n",
              "      <td>0</td>\n",
              "      <td>0</td>\n",
              "      <td>0</td>\n",
              "      <td>0</td>\n",
              "      <td>0</td>\n",
              "      <td>0</td>\n",
              "      <td>0</td>\n",
              "      <td>0</td>\n",
              "      <td>0</td>\n",
              "      <td>0</td>\n",
              "      <td>0</td>\n",
              "      <td>0</td>\n",
              "      <td>0</td>\n",
              "      <td>0</td>\n",
              "      <td>0</td>\n",
              "      <td>0</td>\n",
              "      <td>0</td>\n",
              "      <td>0</td>\n",
              "      <td>0</td>\n",
              "      <td>0</td>\n",
              "      <td>0</td>\n",
              "      <td>0</td>\n",
              "      <td>0</td>\n",
              "      <td>0</td>\n",
              "      <td>0</td>\n",
              "      <td>0</td>\n",
              "      <td>0</td>\n",
              "      <td>0</td>\n",
              "      <td>0</td>\n",
              "      <td>0</td>\n",
              "      <td>0</td>\n",
              "      <td>...</td>\n",
              "      <td>0</td>\n",
              "      <td>0</td>\n",
              "      <td>0</td>\n",
              "      <td>0</td>\n",
              "      <td>0</td>\n",
              "      <td>0</td>\n",
              "      <td>0</td>\n",
              "      <td>0</td>\n",
              "      <td>0</td>\n",
              "      <td>0</td>\n",
              "      <td>0</td>\n",
              "      <td>0</td>\n",
              "      <td>0</td>\n",
              "      <td>0</td>\n",
              "      <td>0</td>\n",
              "      <td>0</td>\n",
              "      <td>0</td>\n",
              "      <td>0</td>\n",
              "      <td>0</td>\n",
              "      <td>0</td>\n",
              "      <td>0</td>\n",
              "      <td>0</td>\n",
              "      <td>0</td>\n",
              "      <td>0</td>\n",
              "      <td>0</td>\n",
              "      <td>0</td>\n",
              "      <td>0</td>\n",
              "      <td>0</td>\n",
              "      <td>0</td>\n",
              "      <td>0</td>\n",
              "      <td>0</td>\n",
              "      <td>0</td>\n",
              "      <td>0</td>\n",
              "      <td>0</td>\n",
              "      <td>0</td>\n",
              "      <td>0</td>\n",
              "      <td>0</td>\n",
              "      <td>0</td>\n",
              "      <td>False</td>\n",
              "      <td>1</td>\n",
              "    </tr>\n",
              "    <tr>\n",
              "      <th>82</th>\n",
              "      <td>New Style Trailing Cherry Blossom Tree Decal R...</td>\n",
              "      <td>1</td>\n",
              "      <td>Was so excited to get this product for my baby...</td>\n",
              "      <td>-1</td>\n",
              "      <td>1</td>\n",
              "      <td>0</td>\n",
              "      <td>0</td>\n",
              "      <td>0</td>\n",
              "      <td>0</td>\n",
              "      <td>0</td>\n",
              "      <td>0</td>\n",
              "      <td>0</td>\n",
              "      <td>0</td>\n",
              "      <td>0</td>\n",
              "      <td>0</td>\n",
              "      <td>0</td>\n",
              "      <td>1</td>\n",
              "      <td>0</td>\n",
              "      <td>0</td>\n",
              "      <td>0</td>\n",
              "      <td>2</td>\n",
              "      <td>0</td>\n",
              "      <td>1</td>\n",
              "      <td>0</td>\n",
              "      <td>0</td>\n",
              "      <td>0</td>\n",
              "      <td>0</td>\n",
              "      <td>0</td>\n",
              "      <td>0</td>\n",
              "      <td>0</td>\n",
              "      <td>0</td>\n",
              "      <td>0</td>\n",
              "      <td>1</td>\n",
              "      <td>0</td>\n",
              "      <td>0</td>\n",
              "      <td>0</td>\n",
              "      <td>0</td>\n",
              "      <td>0</td>\n",
              "      <td>0</td>\n",
              "      <td>0</td>\n",
              "      <td>...</td>\n",
              "      <td>0</td>\n",
              "      <td>0</td>\n",
              "      <td>0</td>\n",
              "      <td>0</td>\n",
              "      <td>0</td>\n",
              "      <td>0</td>\n",
              "      <td>0</td>\n",
              "      <td>0</td>\n",
              "      <td>0</td>\n",
              "      <td>0</td>\n",
              "      <td>0</td>\n",
              "      <td>0</td>\n",
              "      <td>0</td>\n",
              "      <td>0</td>\n",
              "      <td>0</td>\n",
              "      <td>0</td>\n",
              "      <td>0</td>\n",
              "      <td>0</td>\n",
              "      <td>0</td>\n",
              "      <td>0</td>\n",
              "      <td>0</td>\n",
              "      <td>0</td>\n",
              "      <td>0</td>\n",
              "      <td>0</td>\n",
              "      <td>0</td>\n",
              "      <td>0</td>\n",
              "      <td>0</td>\n",
              "      <td>0</td>\n",
              "      <td>0</td>\n",
              "      <td>0</td>\n",
              "      <td>0</td>\n",
              "      <td>0</td>\n",
              "      <td>0</td>\n",
              "      <td>0</td>\n",
              "      <td>0</td>\n",
              "      <td>0</td>\n",
              "      <td>0</td>\n",
              "      <td>0</td>\n",
              "      <td>False</td>\n",
              "      <td>1</td>\n",
              "    </tr>\n",
              "    <tr>\n",
              "      <th>140</th>\n",
              "      <td>Fisher Price Nesting Action Vehicles</td>\n",
              "      <td>5</td>\n",
              "      <td>My son Cameron just loves these great little s...</td>\n",
              "      <td>1</td>\n",
              "      <td>0</td>\n",
              "      <td>0</td>\n",
              "      <td>3</td>\n",
              "      <td>0</td>\n",
              "      <td>0</td>\n",
              "      <td>1</td>\n",
              "      <td>0</td>\n",
              "      <td>0</td>\n",
              "      <td>4</td>\n",
              "      <td>0</td>\n",
              "      <td>0</td>\n",
              "      <td>0</td>\n",
              "      <td>0</td>\n",
              "      <td>0</td>\n",
              "      <td>0</td>\n",
              "      <td>1</td>\n",
              "      <td>0</td>\n",
              "      <td>0</td>\n",
              "      <td>0</td>\n",
              "      <td>0</td>\n",
              "      <td>0</td>\n",
              "      <td>0</td>\n",
              "      <td>1</td>\n",
              "      <td>0</td>\n",
              "      <td>0</td>\n",
              "      <td>0</td>\n",
              "      <td>1</td>\n",
              "      <td>0</td>\n",
              "      <td>0</td>\n",
              "      <td>0</td>\n",
              "      <td>0</td>\n",
              "      <td>0</td>\n",
              "      <td>0</td>\n",
              "      <td>0</td>\n",
              "      <td>0</td>\n",
              "      <td>0</td>\n",
              "      <td>...</td>\n",
              "      <td>0</td>\n",
              "      <td>0</td>\n",
              "      <td>0</td>\n",
              "      <td>0</td>\n",
              "      <td>0</td>\n",
              "      <td>0</td>\n",
              "      <td>0</td>\n",
              "      <td>1</td>\n",
              "      <td>0</td>\n",
              "      <td>0</td>\n",
              "      <td>0</td>\n",
              "      <td>0</td>\n",
              "      <td>0</td>\n",
              "      <td>0</td>\n",
              "      <td>0</td>\n",
              "      <td>0</td>\n",
              "      <td>0</td>\n",
              "      <td>0</td>\n",
              "      <td>0</td>\n",
              "      <td>0</td>\n",
              "      <td>0</td>\n",
              "      <td>0</td>\n",
              "      <td>0</td>\n",
              "      <td>0</td>\n",
              "      <td>0</td>\n",
              "      <td>0</td>\n",
              "      <td>0</td>\n",
              "      <td>0</td>\n",
              "      <td>0</td>\n",
              "      <td>0</td>\n",
              "      <td>0</td>\n",
              "      <td>0</td>\n",
              "      <td>0</td>\n",
              "      <td>0</td>\n",
              "      <td>0</td>\n",
              "      <td>0</td>\n",
              "      <td>0</td>\n",
              "      <td>0</td>\n",
              "      <td>False</td>\n",
              "      <td>1</td>\n",
              "    </tr>\n",
              "    <tr>\n",
              "      <th>276</th>\n",
              "      <td>Sassy Busy Bugs Bar</td>\n",
              "      <td>1</td>\n",
              "      <td>This is a horrible product - because the base ...</td>\n",
              "      <td>-1</td>\n",
              "      <td>0</td>\n",
              "      <td>4</td>\n",
              "      <td>0</td>\n",
              "      <td>0</td>\n",
              "      <td>0</td>\n",
              "      <td>0</td>\n",
              "      <td>0</td>\n",
              "      <td>0</td>\n",
              "      <td>1</td>\n",
              "      <td>0</td>\n",
              "      <td>0</td>\n",
              "      <td>0</td>\n",
              "      <td>0</td>\n",
              "      <td>0</td>\n",
              "      <td>0</td>\n",
              "      <td>0</td>\n",
              "      <td>0</td>\n",
              "      <td>0</td>\n",
              "      <td>1</td>\n",
              "      <td>0</td>\n",
              "      <td>1</td>\n",
              "      <td>0</td>\n",
              "      <td>0</td>\n",
              "      <td>0</td>\n",
              "      <td>0</td>\n",
              "      <td>0</td>\n",
              "      <td>0</td>\n",
              "      <td>0</td>\n",
              "      <td>0</td>\n",
              "      <td>0</td>\n",
              "      <td>0</td>\n",
              "      <td>0</td>\n",
              "      <td>0</td>\n",
              "      <td>0</td>\n",
              "      <td>0</td>\n",
              "      <td>0</td>\n",
              "      <td>...</td>\n",
              "      <td>0</td>\n",
              "      <td>0</td>\n",
              "      <td>0</td>\n",
              "      <td>0</td>\n",
              "      <td>0</td>\n",
              "      <td>0</td>\n",
              "      <td>0</td>\n",
              "      <td>0</td>\n",
              "      <td>0</td>\n",
              "      <td>0</td>\n",
              "      <td>0</td>\n",
              "      <td>1</td>\n",
              "      <td>0</td>\n",
              "      <td>0</td>\n",
              "      <td>0</td>\n",
              "      <td>0</td>\n",
              "      <td>0</td>\n",
              "      <td>0</td>\n",
              "      <td>0</td>\n",
              "      <td>0</td>\n",
              "      <td>0</td>\n",
              "      <td>0</td>\n",
              "      <td>0</td>\n",
              "      <td>0</td>\n",
              "      <td>0</td>\n",
              "      <td>0</td>\n",
              "      <td>0</td>\n",
              "      <td>0</td>\n",
              "      <td>0</td>\n",
              "      <td>0</td>\n",
              "      <td>0</td>\n",
              "      <td>0</td>\n",
              "      <td>0</td>\n",
              "      <td>0</td>\n",
              "      <td>0</td>\n",
              "      <td>0</td>\n",
              "      <td>0</td>\n",
              "      <td>0</td>\n",
              "      <td>False</td>\n",
              "      <td>1</td>\n",
              "    </tr>\n",
              "    <tr>\n",
              "      <th>...</th>\n",
              "      <td>...</td>\n",
              "      <td>...</td>\n",
              "      <td>...</td>\n",
              "      <td>...</td>\n",
              "      <td>...</td>\n",
              "      <td>...</td>\n",
              "      <td>...</td>\n",
              "      <td>...</td>\n",
              "      <td>...</td>\n",
              "      <td>...</td>\n",
              "      <td>...</td>\n",
              "      <td>...</td>\n",
              "      <td>...</td>\n",
              "      <td>...</td>\n",
              "      <td>...</td>\n",
              "      <td>...</td>\n",
              "      <td>...</td>\n",
              "      <td>...</td>\n",
              "      <td>...</td>\n",
              "      <td>...</td>\n",
              "      <td>...</td>\n",
              "      <td>...</td>\n",
              "      <td>...</td>\n",
              "      <td>...</td>\n",
              "      <td>...</td>\n",
              "      <td>...</td>\n",
              "      <td>...</td>\n",
              "      <td>...</td>\n",
              "      <td>...</td>\n",
              "      <td>...</td>\n",
              "      <td>...</td>\n",
              "      <td>...</td>\n",
              "      <td>...</td>\n",
              "      <td>...</td>\n",
              "      <td>...</td>\n",
              "      <td>...</td>\n",
              "      <td>...</td>\n",
              "      <td>...</td>\n",
              "      <td>...</td>\n",
              "      <td>...</td>\n",
              "      <td>...</td>\n",
              "      <td>...</td>\n",
              "      <td>...</td>\n",
              "      <td>...</td>\n",
              "      <td>...</td>\n",
              "      <td>...</td>\n",
              "      <td>...</td>\n",
              "      <td>...</td>\n",
              "      <td>...</td>\n",
              "      <td>...</td>\n",
              "      <td>...</td>\n",
              "      <td>...</td>\n",
              "      <td>...</td>\n",
              "      <td>...</td>\n",
              "      <td>...</td>\n",
              "      <td>...</td>\n",
              "      <td>...</td>\n",
              "      <td>...</td>\n",
              "      <td>...</td>\n",
              "      <td>...</td>\n",
              "      <td>...</td>\n",
              "      <td>...</td>\n",
              "      <td>...</td>\n",
              "      <td>...</td>\n",
              "      <td>...</td>\n",
              "      <td>...</td>\n",
              "      <td>...</td>\n",
              "      <td>...</td>\n",
              "      <td>...</td>\n",
              "      <td>...</td>\n",
              "      <td>...</td>\n",
              "      <td>...</td>\n",
              "      <td>...</td>\n",
              "      <td>...</td>\n",
              "      <td>...</td>\n",
              "      <td>...</td>\n",
              "      <td>...</td>\n",
              "      <td>...</td>\n",
              "      <td>...</td>\n",
              "      <td>...</td>\n",
              "      <td>...</td>\n",
              "    </tr>\n",
              "    <tr>\n",
              "      <th>166300</th>\n",
              "      <td>#1 Baby Bottle Brush for All Types of Bottles ...</td>\n",
              "      <td>1</td>\n",
              "      <td>Very poor quality.  Arrived poorly packaged an...</td>\n",
              "      <td>-1</td>\n",
              "      <td>0</td>\n",
              "      <td>1</td>\n",
              "      <td>0</td>\n",
              "      <td>0</td>\n",
              "      <td>0</td>\n",
              "      <td>1</td>\n",
              "      <td>0</td>\n",
              "      <td>0</td>\n",
              "      <td>0</td>\n",
              "      <td>0</td>\n",
              "      <td>0</td>\n",
              "      <td>0</td>\n",
              "      <td>0</td>\n",
              "      <td>0</td>\n",
              "      <td>0</td>\n",
              "      <td>0</td>\n",
              "      <td>0</td>\n",
              "      <td>0</td>\n",
              "      <td>1</td>\n",
              "      <td>1</td>\n",
              "      <td>0</td>\n",
              "      <td>0</td>\n",
              "      <td>0</td>\n",
              "      <td>0</td>\n",
              "      <td>0</td>\n",
              "      <td>0</td>\n",
              "      <td>0</td>\n",
              "      <td>0</td>\n",
              "      <td>0</td>\n",
              "      <td>0</td>\n",
              "      <td>0</td>\n",
              "      <td>0</td>\n",
              "      <td>3</td>\n",
              "      <td>0</td>\n",
              "      <td>0</td>\n",
              "      <td>1</td>\n",
              "      <td>...</td>\n",
              "      <td>0</td>\n",
              "      <td>0</td>\n",
              "      <td>0</td>\n",
              "      <td>0</td>\n",
              "      <td>0</td>\n",
              "      <td>0</td>\n",
              "      <td>0</td>\n",
              "      <td>0</td>\n",
              "      <td>0</td>\n",
              "      <td>0</td>\n",
              "      <td>0</td>\n",
              "      <td>0</td>\n",
              "      <td>0</td>\n",
              "      <td>0</td>\n",
              "      <td>0</td>\n",
              "      <td>0</td>\n",
              "      <td>0</td>\n",
              "      <td>0</td>\n",
              "      <td>0</td>\n",
              "      <td>0</td>\n",
              "      <td>0</td>\n",
              "      <td>0</td>\n",
              "      <td>0</td>\n",
              "      <td>0</td>\n",
              "      <td>0</td>\n",
              "      <td>0</td>\n",
              "      <td>0</td>\n",
              "      <td>0</td>\n",
              "      <td>0</td>\n",
              "      <td>0</td>\n",
              "      <td>0</td>\n",
              "      <td>0</td>\n",
              "      <td>0</td>\n",
              "      <td>0</td>\n",
              "      <td>0</td>\n",
              "      <td>0</td>\n",
              "      <td>0</td>\n",
              "      <td>0</td>\n",
              "      <td>False</td>\n",
              "      <td>1</td>\n",
              "    </tr>\n",
              "    <tr>\n",
              "      <th>166465</th>\n",
              "      <td>Giftoyou(TM) High Quality Lightweight Retracta...</td>\n",
              "      <td>1</td>\n",
              "      <td>I was so happy when i bought this charger for ...</td>\n",
              "      <td>-1</td>\n",
              "      <td>0</td>\n",
              "      <td>0</td>\n",
              "      <td>0</td>\n",
              "      <td>0</td>\n",
              "      <td>0</td>\n",
              "      <td>0</td>\n",
              "      <td>0</td>\n",
              "      <td>0</td>\n",
              "      <td>0</td>\n",
              "      <td>0</td>\n",
              "      <td>0</td>\n",
              "      <td>0</td>\n",
              "      <td>0</td>\n",
              "      <td>0</td>\n",
              "      <td>0</td>\n",
              "      <td>0</td>\n",
              "      <td>0</td>\n",
              "      <td>1</td>\n",
              "      <td>0</td>\n",
              "      <td>0</td>\n",
              "      <td>0</td>\n",
              "      <td>0</td>\n",
              "      <td>0</td>\n",
              "      <td>0</td>\n",
              "      <td>0</td>\n",
              "      <td>0</td>\n",
              "      <td>1</td>\n",
              "      <td>0</td>\n",
              "      <td>0</td>\n",
              "      <td>0</td>\n",
              "      <td>0</td>\n",
              "      <td>0</td>\n",
              "      <td>0</td>\n",
              "      <td>0</td>\n",
              "      <td>0</td>\n",
              "      <td>0</td>\n",
              "      <td>...</td>\n",
              "      <td>0</td>\n",
              "      <td>0</td>\n",
              "      <td>0</td>\n",
              "      <td>0</td>\n",
              "      <td>0</td>\n",
              "      <td>0</td>\n",
              "      <td>0</td>\n",
              "      <td>0</td>\n",
              "      <td>0</td>\n",
              "      <td>0</td>\n",
              "      <td>0</td>\n",
              "      <td>0</td>\n",
              "      <td>0</td>\n",
              "      <td>0</td>\n",
              "      <td>0</td>\n",
              "      <td>0</td>\n",
              "      <td>0</td>\n",
              "      <td>0</td>\n",
              "      <td>0</td>\n",
              "      <td>0</td>\n",
              "      <td>0</td>\n",
              "      <td>0</td>\n",
              "      <td>0</td>\n",
              "      <td>0</td>\n",
              "      <td>0</td>\n",
              "      <td>0</td>\n",
              "      <td>0</td>\n",
              "      <td>0</td>\n",
              "      <td>0</td>\n",
              "      <td>0</td>\n",
              "      <td>0</td>\n",
              "      <td>0</td>\n",
              "      <td>0</td>\n",
              "      <td>0</td>\n",
              "      <td>0</td>\n",
              "      <td>0</td>\n",
              "      <td>0</td>\n",
              "      <td>0</td>\n",
              "      <td>False</td>\n",
              "      <td>1</td>\n",
              "    </tr>\n",
              "    <tr>\n",
              "      <th>166472</th>\n",
              "      <td>Geleeo Universal Stroller Cooling Pad - Pink</td>\n",
              "      <td>2</td>\n",
              "      <td>I agree with the reviewer below, this pad you ...</td>\n",
              "      <td>-1</td>\n",
              "      <td>0</td>\n",
              "      <td>0</td>\n",
              "      <td>0</td>\n",
              "      <td>0</td>\n",
              "      <td>1</td>\n",
              "      <td>0</td>\n",
              "      <td>0</td>\n",
              "      <td>0</td>\n",
              "      <td>0</td>\n",
              "      <td>1</td>\n",
              "      <td>0</td>\n",
              "      <td>0</td>\n",
              "      <td>0</td>\n",
              "      <td>0</td>\n",
              "      <td>0</td>\n",
              "      <td>0</td>\n",
              "      <td>0</td>\n",
              "      <td>0</td>\n",
              "      <td>0</td>\n",
              "      <td>0</td>\n",
              "      <td>0</td>\n",
              "      <td>0</td>\n",
              "      <td>0</td>\n",
              "      <td>1</td>\n",
              "      <td>0</td>\n",
              "      <td>0</td>\n",
              "      <td>1</td>\n",
              "      <td>0</td>\n",
              "      <td>0</td>\n",
              "      <td>0</td>\n",
              "      <td>0</td>\n",
              "      <td>0</td>\n",
              "      <td>1</td>\n",
              "      <td>0</td>\n",
              "      <td>0</td>\n",
              "      <td>0</td>\n",
              "      <td>...</td>\n",
              "      <td>0</td>\n",
              "      <td>0</td>\n",
              "      <td>0</td>\n",
              "      <td>1</td>\n",
              "      <td>0</td>\n",
              "      <td>0</td>\n",
              "      <td>1</td>\n",
              "      <td>0</td>\n",
              "      <td>0</td>\n",
              "      <td>0</td>\n",
              "      <td>0</td>\n",
              "      <td>0</td>\n",
              "      <td>0</td>\n",
              "      <td>0</td>\n",
              "      <td>0</td>\n",
              "      <td>0</td>\n",
              "      <td>0</td>\n",
              "      <td>0</td>\n",
              "      <td>0</td>\n",
              "      <td>0</td>\n",
              "      <td>0</td>\n",
              "      <td>0</td>\n",
              "      <td>0</td>\n",
              "      <td>0</td>\n",
              "      <td>0</td>\n",
              "      <td>0</td>\n",
              "      <td>0</td>\n",
              "      <td>0</td>\n",
              "      <td>0</td>\n",
              "      <td>0</td>\n",
              "      <td>0</td>\n",
              "      <td>0</td>\n",
              "      <td>0</td>\n",
              "      <td>0</td>\n",
              "      <td>0</td>\n",
              "      <td>0</td>\n",
              "      <td>0</td>\n",
              "      <td>0</td>\n",
              "      <td>False</td>\n",
              "      <td>1</td>\n",
              "    </tr>\n",
              "    <tr>\n",
              "      <th>166509</th>\n",
              "      <td>Nicerocker big Cute Sweet Kids Baby Girls Love...</td>\n",
              "      <td>1</td>\n",
              "      <td>I only ordered one of this item and received 2...</td>\n",
              "      <td>-1</td>\n",
              "      <td>0</td>\n",
              "      <td>1</td>\n",
              "      <td>0</td>\n",
              "      <td>0</td>\n",
              "      <td>0</td>\n",
              "      <td>0</td>\n",
              "      <td>0</td>\n",
              "      <td>0</td>\n",
              "      <td>0</td>\n",
              "      <td>0</td>\n",
              "      <td>0</td>\n",
              "      <td>0</td>\n",
              "      <td>2</td>\n",
              "      <td>0</td>\n",
              "      <td>0</td>\n",
              "      <td>0</td>\n",
              "      <td>0</td>\n",
              "      <td>0</td>\n",
              "      <td>0</td>\n",
              "      <td>0</td>\n",
              "      <td>0</td>\n",
              "      <td>0</td>\n",
              "      <td>0</td>\n",
              "      <td>0</td>\n",
              "      <td>0</td>\n",
              "      <td>0</td>\n",
              "      <td>0</td>\n",
              "      <td>0</td>\n",
              "      <td>0</td>\n",
              "      <td>0</td>\n",
              "      <td>0</td>\n",
              "      <td>0</td>\n",
              "      <td>0</td>\n",
              "      <td>0</td>\n",
              "      <td>0</td>\n",
              "      <td>0</td>\n",
              "      <td>...</td>\n",
              "      <td>0</td>\n",
              "      <td>0</td>\n",
              "      <td>0</td>\n",
              "      <td>0</td>\n",
              "      <td>0</td>\n",
              "      <td>0</td>\n",
              "      <td>0</td>\n",
              "      <td>0</td>\n",
              "      <td>0</td>\n",
              "      <td>0</td>\n",
              "      <td>0</td>\n",
              "      <td>0</td>\n",
              "      <td>0</td>\n",
              "      <td>0</td>\n",
              "      <td>0</td>\n",
              "      <td>0</td>\n",
              "      <td>0</td>\n",
              "      <td>0</td>\n",
              "      <td>0</td>\n",
              "      <td>0</td>\n",
              "      <td>0</td>\n",
              "      <td>0</td>\n",
              "      <td>0</td>\n",
              "      <td>0</td>\n",
              "      <td>0</td>\n",
              "      <td>0</td>\n",
              "      <td>0</td>\n",
              "      <td>0</td>\n",
              "      <td>0</td>\n",
              "      <td>0</td>\n",
              "      <td>0</td>\n",
              "      <td>0</td>\n",
              "      <td>0</td>\n",
              "      <td>0</td>\n",
              "      <td>0</td>\n",
              "      <td>0</td>\n",
              "      <td>0</td>\n",
              "      <td>0</td>\n",
              "      <td>False</td>\n",
              "      <td>1</td>\n",
              "    </tr>\n",
              "    <tr>\n",
              "      <th>166746</th>\n",
              "      <td>Squeasy Snacker 6oz Silicone Reusable Food Pou...</td>\n",
              "      <td>5</td>\n",
              "      <td>This reusable squeeze bottle is the best I hav...</td>\n",
              "      <td>1</td>\n",
              "      <td>0</td>\n",
              "      <td>1</td>\n",
              "      <td>0</td>\n",
              "      <td>1</td>\n",
              "      <td>0</td>\n",
              "      <td>0</td>\n",
              "      <td>1</td>\n",
              "      <td>0</td>\n",
              "      <td>0</td>\n",
              "      <td>0</td>\n",
              "      <td>0</td>\n",
              "      <td>0</td>\n",
              "      <td>0</td>\n",
              "      <td>1</td>\n",
              "      <td>0</td>\n",
              "      <td>0</td>\n",
              "      <td>0</td>\n",
              "      <td>0</td>\n",
              "      <td>0</td>\n",
              "      <td>0</td>\n",
              "      <td>0</td>\n",
              "      <td>0</td>\n",
              "      <td>0</td>\n",
              "      <td>0</td>\n",
              "      <td>0</td>\n",
              "      <td>0</td>\n",
              "      <td>0</td>\n",
              "      <td>0</td>\n",
              "      <td>0</td>\n",
              "      <td>0</td>\n",
              "      <td>0</td>\n",
              "      <td>0</td>\n",
              "      <td>0</td>\n",
              "      <td>0</td>\n",
              "      <td>0</td>\n",
              "      <td>0</td>\n",
              "      <td>...</td>\n",
              "      <td>1</td>\n",
              "      <td>0</td>\n",
              "      <td>0</td>\n",
              "      <td>0</td>\n",
              "      <td>0</td>\n",
              "      <td>0</td>\n",
              "      <td>0</td>\n",
              "      <td>0</td>\n",
              "      <td>0</td>\n",
              "      <td>0</td>\n",
              "      <td>0</td>\n",
              "      <td>0</td>\n",
              "      <td>0</td>\n",
              "      <td>0</td>\n",
              "      <td>0</td>\n",
              "      <td>0</td>\n",
              "      <td>0</td>\n",
              "      <td>0</td>\n",
              "      <td>0</td>\n",
              "      <td>0</td>\n",
              "      <td>0</td>\n",
              "      <td>1</td>\n",
              "      <td>0</td>\n",
              "      <td>0</td>\n",
              "      <td>0</td>\n",
              "      <td>0</td>\n",
              "      <td>0</td>\n",
              "      <td>0</td>\n",
              "      <td>0</td>\n",
              "      <td>0</td>\n",
              "      <td>1</td>\n",
              "      <td>0</td>\n",
              "      <td>1</td>\n",
              "      <td>0</td>\n",
              "      <td>0</td>\n",
              "      <td>0</td>\n",
              "      <td>0</td>\n",
              "      <td>0</td>\n",
              "      <td>False</td>\n",
              "      <td>1</td>\n",
              "    </tr>\n",
              "  </tbody>\n",
              "</table>\n",
              "<p>2849 rows × 199 columns</p>\n",
              "</div>"
            ],
            "text/plain": [
              "                                                     name  ...  constant\n",
              "45                              SoftPlay Cloth Book, Love  ...         1\n",
              "63      Hunnt&reg; Falling Flowers and Birds Kids Nurs...  ...         1\n",
              "82      New Style Trailing Cherry Blossom Tree Decal R...  ...         1\n",
              "140                  Fisher Price Nesting Action Vehicles  ...         1\n",
              "276                                   Sassy Busy Bugs Bar  ...         1\n",
              "...                                                   ...  ...       ...\n",
              "166300  #1 Baby Bottle Brush for All Types of Bottles ...  ...         1\n",
              "166465  Giftoyou(TM) High Quality Lightweight Retracta...  ...         1\n",
              "166472       Geleeo Universal Stroller Cooling Pad - Pink  ...         1\n",
              "166509  Nicerocker big Cute Sweet Kids Baby Girls Love...  ...         1\n",
              "166746  Squeasy Snacker 6oz Silicone Reusable Food Pou...  ...         1\n",
              "\n",
              "[2849 rows x 199 columns]"
            ]
          },
          "metadata": {
            "tags": []
          },
          "execution_count": 141
        }
      ]
    },
    {
      "cell_type": "code",
      "metadata": {
        "id": "jNhPkTAr0H21",
        "colab_type": "code",
        "colab": {}
      },
      "source": [
        ""
      ],
      "execution_count": 0,
      "outputs": []
    }
  ]
}